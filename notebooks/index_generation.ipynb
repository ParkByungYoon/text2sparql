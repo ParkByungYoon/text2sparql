{
 "cells": [
  {
   "cell_type": "code",
   "execution_count": 1,
   "metadata": {},
   "outputs": [],
   "source": [
    "import sys\n",
    "sys.path.append('../')\n",
    "from setting import config_read"
   ]
  },
  {
   "cell_type": "code",
   "execution_count": 2,
   "metadata": {},
   "outputs": [
    {
     "name": "stderr",
     "output_type": "stream",
     "text": [
      "* Owlready2 * Warning: optimized Cython parser module 'owlready2_optimized' is not available, defaulting to slower Python implementation\n"
     ]
    }
   ],
   "source": [
    "from owlready2 import get_ontology\n",
    "import pandas as pd\n",
    "from elasticsearch import Elasticsearch"
   ]
  },
  {
   "cell_type": "code",
   "execution_count": 3,
   "metadata": {},
   "outputs": [],
   "source": [
    "# Read config file\n",
    "config = config_read('../')\n",
    "\n",
    "# Load owl file\n",
    "data_path = config['owl']['path']\n",
    "onto = get_ontology(data_path).load()"
   ]
  },
  {
   "cell_type": "code",
   "execution_count": 6,
   "metadata": {},
   "outputs": [],
   "source": [
    "# Elasticsearch\n",
    "server_ip = config['elasticsearch']['ip']\n",
    "index_name = config['elasticsearch']['name']\n",
    "es = Elasticsearch(server_ip)"
   ]
  },
  {
   "cell_type": "code",
   "execution_count": 7,
   "metadata": {},
   "outputs": [],
   "source": [
    "index_list = []\n",
    "index_list.extend([(r.iri, \"T_c\", r.label) for r in onto.classes()])\n",
    "index_list.extend([(r.iri, \"T_op\", r.label) for r in onto.object_properties()])\n",
    "index_list.extend([(r.iri, \"T_dp\", r.label) for r in onto.data_properties()])\n",
    "index_list.extend([(r.iri, \"T_i\", r.label) for r in onto.individuals()])\n",
    "\n",
    "# for r in onto.individuals():\n",
    "#     annotation_values = [*r.label]\n",
    "#     for p in r.get_properties():\n",
    "#         if p._name in ['realName', 'name', 'title']:\n",
    "#             av = getattr(r, p._name)\n",
    "#             if av in annotation_values: continue\n",
    "#             annotation_values.append(av)\n",
    "#     index_list.append((r.iri, \"T_i\", annotation_values))"
   ]
  },
  {
   "cell_type": "code",
   "execution_count": 8,
   "metadata": {},
   "outputs": [
    {
     "data": {
      "text/html": [
       "<div>\n",
       "<style scoped>\n",
       "    .dataframe tbody tr th:only-of-type {\n",
       "        vertical-align: middle;\n",
       "    }\n",
       "\n",
       "    .dataframe tbody tr th {\n",
       "        vertical-align: top;\n",
       "    }\n",
       "\n",
       "    .dataframe thead th {\n",
       "        text-align: right;\n",
       "    }\n",
       "</style>\n",
       "<table border=\"1\" class=\"dataframe\">\n",
       "  <thead>\n",
       "    <tr style=\"text-align: right;\">\n",
       "      <th></th>\n",
       "      <th>URI</th>\n",
       "      <th>Type</th>\n",
       "      <th>Annotation Values</th>\n",
       "    </tr>\n",
       "  </thead>\n",
       "  <tbody>\n",
       "    <tr>\n",
       "      <th>0</th>\n",
       "      <td>http://schema.org/MusicAlbum</td>\n",
       "      <td>T_c</td>\n",
       "      <td>[앨범, 음악 앨범]</td>\n",
       "    </tr>\n",
       "    <tr>\n",
       "      <th>1</th>\n",
       "      <td>http://xmlns.com/foaf/0.1/Organization</td>\n",
       "      <td>T_c</td>\n",
       "      <td>[연예기획사, 기관, 조직, 회사]</td>\n",
       "    </tr>\n",
       "    <tr>\n",
       "      <th>2</th>\n",
       "      <td>http://xmlns.com/foaf/0.1/Person</td>\n",
       "      <td>T_c</td>\n",
       "      <td>[인물, 사람]</td>\n",
       "    </tr>\n",
       "    <tr>\n",
       "      <th>3</th>\n",
       "      <td>http://www.sktelecom.com/skmo/Language</td>\n",
       "      <td>T_c</td>\n",
       "      <td>[언어]</td>\n",
       "    </tr>\n",
       "    <tr>\n",
       "      <th>4</th>\n",
       "      <td>http://purl.org/ontology/mo/Track</td>\n",
       "      <td>T_c</td>\n",
       "      <td>[곡, 노래, 수록곡]</td>\n",
       "    </tr>\n",
       "    <tr>\n",
       "      <th>...</th>\n",
       "      <td>...</td>\n",
       "      <td>...</td>\n",
       "      <td>...</td>\n",
       "    </tr>\n",
       "    <tr>\n",
       "      <th>549</th>\n",
       "      <td>http://www.sktelecom.com/timeUnit#7일</td>\n",
       "      <td>T_i</td>\n",
       "      <td>[7일, 칠일]</td>\n",
       "    </tr>\n",
       "    <tr>\n",
       "      <th>550</th>\n",
       "      <td>http://www.sktelecom.com/timeUnit#8월</td>\n",
       "      <td>T_i</td>\n",
       "      <td>[팔월, 8월]</td>\n",
       "    </tr>\n",
       "    <tr>\n",
       "      <th>551</th>\n",
       "      <td>http://www.sktelecom.com/timeUnit#8일</td>\n",
       "      <td>T_i</td>\n",
       "      <td>[팔일, 8일]</td>\n",
       "    </tr>\n",
       "    <tr>\n",
       "      <th>552</th>\n",
       "      <td>http://www.sktelecom.com/timeUnit#9월</td>\n",
       "      <td>T_i</td>\n",
       "      <td>[구월, 9월]</td>\n",
       "    </tr>\n",
       "    <tr>\n",
       "      <th>553</th>\n",
       "      <td>http://www.sktelecom.com/timeUnit#9일</td>\n",
       "      <td>T_i</td>\n",
       "      <td>[구일, 9일]</td>\n",
       "    </tr>\n",
       "  </tbody>\n",
       "</table>\n",
       "<p>554 rows × 3 columns</p>\n",
       "</div>"
      ],
      "text/plain": [
       "                                        URI Type    Annotation Values\n",
       "0              http://schema.org/MusicAlbum  T_c          [앨범, 음악 앨범]\n",
       "1    http://xmlns.com/foaf/0.1/Organization  T_c  [연예기획사, 기관, 조직, 회사]\n",
       "2          http://xmlns.com/foaf/0.1/Person  T_c             [인물, 사람]\n",
       "3    http://www.sktelecom.com/skmo/Language  T_c                 [언어]\n",
       "4         http://purl.org/ontology/mo/Track  T_c         [곡, 노래, 수록곡]\n",
       "..                                      ...  ...                  ...\n",
       "549    http://www.sktelecom.com/timeUnit#7일  T_i             [7일, 칠일]\n",
       "550    http://www.sktelecom.com/timeUnit#8월  T_i             [팔월, 8월]\n",
       "551    http://www.sktelecom.com/timeUnit#8일  T_i             [팔일, 8일]\n",
       "552    http://www.sktelecom.com/timeUnit#9월  T_i             [구월, 9월]\n",
       "553    http://www.sktelecom.com/timeUnit#9일  T_i             [구일, 9일]\n",
       "\n",
       "[554 rows x 3 columns]"
      ]
     },
     "execution_count": 8,
     "metadata": {},
     "output_type": "execute_result"
    }
   ],
   "source": [
    "df = pd.DataFrame(index_list, columns=['URI', 'Type', 'Annotation Values'])\n",
    "\n",
    "# Remain only resources with annotation values\n",
    "cond = df[\"Annotation Values\"].apply(len) != 0\n",
    "df = df[cond].reset_index(drop=True)\n",
    "df"
   ]
  },
  {
   "cell_type": "code",
   "execution_count": 9,
   "metadata": {},
   "outputs": [
    {
     "name": "stdout",
     "output_type": "stream",
     "text": [
      "Index has been deleted successfully\n"
     ]
    }
   ],
   "source": [
    "if es.indices.exists(index=index_name):\n",
    "    es.indices.delete(index=index_name,ignore=[400, 404])\n",
    "    print('Index has been deleted successfully')"
   ]
  },
  {
   "cell_type": "code",
   "execution_count": 10,
   "metadata": {},
   "outputs": [],
   "source": [
    "for i in range(len(df)) :\n",
    "    doc = {'Annotation Values':df[\"Annotation Values\"][i],}\n",
    "    es.index(index=index_name, body=doc)"
   ]
  },
  {
   "cell_type": "code",
   "execution_count": 11,
   "metadata": {},
   "outputs": [
    {
     "data": {
      "text/plain": [
       "{'took': 55,\n",
       " 'timed_out': False,\n",
       " '_shards': {'total': 1, 'successful': 1, 'skipped': 0, 'failed': 0},\n",
       " 'hits': {'total': {'value': 1, 'relation': 'eq'},\n",
       "  'max_score': 7.171753,\n",
       "  'hits': [{'_index': 'skmo',\n",
       "    '_id': 'D2tynIoB6175Wi5vE2PB',\n",
       "    '_score': 7.171753,\n",
       "    '_source': {'Annotation Values': ['곡', '노래', '수록곡']}}]}}"
      ]
     },
     "execution_count": 11,
     "metadata": {},
     "output_type": "execute_result"
    }
   ],
   "source": [
    "search_query = {\"query\":{\"term\":{\"Annotation Values.keyword\": \"노래\"}}}\n",
    "es.search(index=index_name, body=search_query)"
   ]
  }
 ],
 "metadata": {
  "kernelspec": {
   "display_name": "py39",
   "language": "python",
   "name": "python3"
  },
  "language_info": {
   "codemirror_mode": {
    "name": "ipython",
    "version": 3
   },
   "file_extension": ".py",
   "mimetype": "text/x-python",
   "name": "python",
   "nbconvert_exporter": "python",
   "pygments_lexer": "ipython3",
   "version": "3.9.16"
  },
  "orig_nbformat": 4
 },
 "nbformat": 4,
 "nbformat_minor": 2
}
