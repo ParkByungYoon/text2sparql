{
 "cells": [
  {
   "cell_type": "code",
   "execution_count": 1,
   "metadata": {},
   "outputs": [],
   "source": [
    "import sys\n",
    "sys.path.append('../')\n",
    "from setting import config_read"
   ]
  },
  {
   "cell_type": "code",
   "execution_count": 2,
   "metadata": {},
   "outputs": [
    {
     "name": "stderr",
     "output_type": "stream",
     "text": [
      "* Owlready2 * Warning: optimized Cython parser module 'owlready2_optimized' is not available, defaulting to slower Python implementation\n",
      "\n",
      "Warning: SQLite3 version 3.40.0 and 3.41.2 have huge performance regressions; please install version 3.41.1 or 3.42!\n",
      "\n"
     ]
    }
   ],
   "source": [
    "import pandas as pd\n",
    "import owlready2\n",
    "import rdflib\n",
    "from map import ResourceMapper\n",
    "from graph import *"
   ]
  },
  {
   "cell_type": "code",
   "execution_count": 3,
   "metadata": {},
   "outputs": [],
   "source": [
    "config = config_read('../')\n",
    "rm = ResourceMapper(config)\n",
    "cgg = ConceptualGraphGenerator(config)\n",
    "qgg = QueryGraphGenerator(config)"
   ]
  },
  {
   "cell_type": "code",
   "execution_count": 4,
   "metadata": {},
   "outputs": [],
   "source": [
    "user_query = '용감한 형제가 작곡한 노래의 장르는?'\n",
    "resource_combination = rm.process(user_query)\n",
    "conceptual_graph = cgg.generate_conceptual_graph(resource_combination)\n",
    "query_graph = qgg.generate_query_graph(conceptual_graph)"
   ]
  },
  {
   "cell_type": "code",
   "execution_count": 5,
   "metadata": {},
   "outputs": [
    {
     "name": "stdout",
     "output_type": "stream",
     "text": [
      "[[('foaf:Person', 'skmo:isComposedBy', 'mo:Track')], [('mo:Track', 'skmo:hasGenre', 'skmo:Genre')]]\n",
      "\n",
      ": 총 1개의 query graph candidates generated\n"
     ]
    }
   ],
   "source": [
    "for score, qg in query_graph:\n",
    "    print(qg)\n",
    "\n",
    "print(f'\\n: 총 {len(query_graph)}개의 query graph candidates generated')"
   ]
  },
  {
   "cell_type": "code",
   "execution_count": 6,
   "metadata": {},
   "outputs": [
    {
     "data": {
      "text/plain": [
       "[[('foaf:Person', 'skmo:isComposedBy', 'mo:Track')],\n",
       " [('mo:Track', 'skmo:hasGenre', 'skmo:Genre')]]"
      ]
     },
     "execution_count": 6,
     "metadata": {},
     "output_type": "execute_result"
    }
   ],
   "source": [
    "final_query_graph = sorted(query_graph)[0][1]\n",
    "final_query_graph"
   ]
  },
  {
   "cell_type": "code",
   "execution_count": 72,
   "metadata": {},
   "outputs": [
    {
     "name": "stdout",
     "output_type": "stream",
     "text": [
      "\n",
      "SELECT ?target\n",
      "WHERE\n",
      "{\n",
      "foaf:Person skmo:isComposedBy mo:Track\n",
      "mo:Track skmo:hasGenre skmo:Genre\n",
      "}\n"
     ]
    }
   ],
   "source": [
    "query = \"\"\"\n",
    "SELECT ?target\n",
    "WHERE\n",
    "\"\"\"\n",
    "query += '{\\n'\n",
    "for query_arc in final_query_graph:\n",
    "    for s,p,o in query_arc:\n",
    "        query += (' ').join([s,p,o]) + '\\n'\n",
    "query += '}'\n",
    "print(query)"
   ]
  },
  {
   "cell_type": "code",
   "execution_count": 69,
   "metadata": {},
   "outputs": [
    {
     "name": "stdout",
     "output_type": "stream",
     "text": [
      "http://www.sktelecom.com/skmo/k-pop\n",
      "http://www.sktelecom.com/skmo/R&B\n",
      "http://www.sktelecom.com/skmo/hip_hop\n"
     ]
    }
   ],
   "source": [
    "g = rdflib.Graph()\n",
    "g.parse(config['owl']['path'])\n",
    "\n",
    "SKMO = rdflib.Namespace(\"http://www.sktelecom.com/skmo/\")\n",
    "g.bind(\"skmo\", SKMO)\n",
    "\n",
    "knows_query = \"\"\"\n",
    "SELECT DISTINCT ?target\n",
    "WHERE {\n",
    "    ?x skmo:isComposedBy skmo:용감한_형제;\n",
    "    ?x skmo:hasGenre ?target\n",
    "}\"\"\"\n",
    "\n",
    "triple_list = []\n",
    "qres = g.query(knows_query)\n",
    "\n",
    "for row in qres:\n",
    "    print(row.target)"
   ]
  }
 ],
 "metadata": {
  "kernelspec": {
   "display_name": "py39",
   "language": "python",
   "name": "python3"
  },
  "language_info": {
   "codemirror_mode": {
    "name": "ipython",
    "version": 3
   },
   "file_extension": ".py",
   "mimetype": "text/x-python",
   "name": "python",
   "nbconvert_exporter": "python",
   "pygments_lexer": "ipython3",
   "version": "3.9.16"
  },
  "orig_nbformat": 4
 },
 "nbformat": 4,
 "nbformat_minor": 2
}
