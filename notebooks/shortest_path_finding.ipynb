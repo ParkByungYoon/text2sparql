{
 "cells": [
  {
   "cell_type": "code",
   "execution_count": 11,
   "metadata": {},
   "outputs": [],
   "source": [
    "from heapq import heappop, heappush\n",
    "import itertools\n",
    "import networkx as nx\n",
    "import pandas as pd"
   ]
  },
  {
   "cell_type": "code",
   "execution_count": 12,
   "metadata": {},
   "outputs": [],
   "source": [
    "# Load unit path data\n",
    "unit_path = pd.read_csv('../unit_path.csv')"
   ]
  },
  {
   "cell_type": "code",
   "execution_count": 13,
   "metadata": {},
   "outputs": [],
   "source": [
    "G = nx.MultiGraph()\n",
    "\n",
    "for _, row in unit_path.iterrows():\n",
    "    source = row['domain']  \n",
    "    target = row['range']   \n",
    "    edge = row['P']         \n",
    "    weight = row['W']       \n",
    "\n",
    "    G.add_node(source)        \n",
    "    G.add_node(target)\n",
    "        \n",
    "    G.add_edge(source, target, property=edge, weight=weight, label=edge)"
   ]
  },
  {
   "cell_type": "code",
   "execution_count": 36,
   "metadata": {},
   "outputs": [],
   "source": [
    "source_node = 'mo.Track'\n",
    "target_node = 'SKMO_v2.4_0223.MusicActivity'"
   ]
  },
  {
   "cell_type": "code",
   "execution_count": 37,
   "metadata": {},
   "outputs": [],
   "source": [
    "def find_shortest_path(G, source, target, p_name=None, n_triple=None, weight=False):\n",
    "    push = heappush\n",
    "    pop = heappop\n",
    "    \n",
    "    c = itertools.count()\n",
    "    fringe = []\n",
    "    path = [source]\n",
    "    result = []\n",
    "    global_dist = float('inf')\n",
    "\n",
    "    if n_triple is None:\n",
    "        n_triple = len(G.nodes)\n",
    "\n",
    "    if source == target:\n",
    "        return result\n",
    "    \n",
    "    push(fringe, (0, next(c), source, path))\n",
    "\n",
    "    while fringe:\n",
    "        (d, loop, v, path) = pop(fringe)\n",
    "\n",
    "        if len(path)//2 >= n_triple:\n",
    "            continue\n",
    "    \n",
    "        if target == path[-1]:\n",
    "            if d > global_dist:\n",
    "                continue\n",
    "            if p_name is None or p_name in path:\n",
    "                result.append((d,path))\n",
    "                global_dist = d\n",
    "            continue\n",
    "        \n",
    "\n",
    "        for u, edges in G._adj[v].items():\n",
    "            if u in path:\n",
    "                continue\n",
    "            for _, e in edges.items():\n",
    "                if weight: cost = e['weight'] \n",
    "                else: cost = 1\n",
    "                vu_dist = d + cost\n",
    "\n",
    "                if vu_dist > global_dist:\n",
    "                    continue\n",
    "\n",
    "                new_path = list()\n",
    "                new_path += path\n",
    "                new_path += [e['property'], u]\n",
    "\n",
    "                push(fringe, (vu_dist, next(c), u, new_path))\n",
    "    \n",
    "    if len(result) == 0:\n",
    "        return result\n",
    "    \n",
    "    # return result\n",
    "\n",
    "    score = sorted(result)[0][0]\n",
    "    shortest_path = sorted(result)[0][1]\n",
    "    shortest_path = [tuple(shortest_path[offset:offset+3]) for offset in range(0, len(shortest_path)-2, 2)]\n",
    "    return score, shortest_path"
   ]
  },
  {
   "cell_type": "code",
   "execution_count": 39,
   "metadata": {},
   "outputs": [
    {
     "data": {
      "text/plain": [
       "[('mo.Track', 'SKMO_v2.4_0223.debutTrack', 'SKMO_v2.4_0223.MusicArtist'),\n",
       " ('SKMO_v2.4_0223.MusicArtist',\n",
       "  'SKMO_v2.4_0223.hasMusicActivity',\n",
       "  'SKMO_v2.4_0223.MusicActivity')]"
      ]
     },
     "execution_count": 39,
     "metadata": {},
     "output_type": "execute_result"
    }
   ],
   "source": [
    "score, result = find_shortest_path(G, source_node, target_node, weight=False)\n",
    "result"
   ]
  }
 ],
 "metadata": {
  "kernelspec": {
   "display_name": "py39",
   "language": "python",
   "name": "python3"
  },
  "language_info": {
   "codemirror_mode": {
    "name": "ipython",
    "version": 3
   },
   "file_extension": ".py",
   "mimetype": "text/x-python",
   "name": "python",
   "nbconvert_exporter": "python",
   "pygments_lexer": "ipython3",
   "version": "3.9.16"
  },
  "orig_nbformat": 4
 },
 "nbformat": 4,
 "nbformat_minor": 2
}
