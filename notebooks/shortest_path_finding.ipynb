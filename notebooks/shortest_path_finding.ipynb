{
 "cells": [
  {
   "cell_type": "code",
   "execution_count": 43,
   "metadata": {},
   "outputs": [],
   "source": [
    "import pandas as pd\n",
    "import networkx as nx\n",
    "import matplotlib.pyplot as plt"
   ]
  },
  {
   "cell_type": "code",
   "execution_count": 44,
   "metadata": {},
   "outputs": [],
   "source": [
    "# Load unit path data\n",
    "unit_path = pd.read_csv('../unit_path.csv')"
   ]
  },
  {
   "cell_type": "code",
   "execution_count": 45,
   "metadata": {},
   "outputs": [],
   "source": [
    "def generate_graph():\n",
    "    G = nx.Graph()\n",
    "\n",
    "    for index, row in unit_path.iterrows():\n",
    "        source = row['domain']  # 출발 노드\n",
    "        target = row['range']   # 도착 노드\n",
    "        edge = row['P']         # 엣지\n",
    "        weight = row['W']       # 엣지 가중치\n",
    "\n",
    "        G.add_node(source)      # 출발 노드 추가\n",
    "        G.add_node(target)      # 도착 노드 추가\n",
    "        G.add_edge(source, target, property=edge, weight=weight, label=edge)  # 엣지 추가\n",
    "    \n",
    "    return G"
   ]
  },
  {
   "cell_type": "code",
   "execution_count": 46,
   "metadata": {},
   "outputs": [],
   "source": [
    "def heuristic(start_node, target_node):\n",
    "    w_values = unit_path[(unit_path['domain'] == start_node)]['W'].values\n",
    "    # The heuristic function of the algorithm is based on the sum of property weights of each path\n",
    "    if len(w_values) > 0:\n",
    "        return min(w_values)\n",
    "    else : \n",
    "        return float('inf')"
   ]
  },
  {
   "cell_type": "code",
   "execution_count": 57,
   "metadata": {},
   "outputs": [
    {
     "data": {
      "text/plain": [
       "['schema.MusicAlbum', 'foaf.Person', 'schema.Country']"
      ]
     },
     "execution_count": 57,
     "metadata": {},
     "output_type": "execute_result"
    }
   ],
   "source": [
    "G = generate_graph()"
   ]
  },
  {
   "cell_type": "code",
   "execution_count": 58,
   "metadata": {},
   "outputs": [
    {
     "data": {
      "text/plain": [
       "['schema.MusicAlbum', 'foaf.Person', 'schema.Country']"
      ]
     },
     "execution_count": 58,
     "metadata": {},
     "output_type": "execute_result"
    }
   ],
   "source": [
    "start_node = 'schema.MusicAlbum'\n",
    "target_node = 'schema.Country'\n",
    "\n",
    "shortest_path = nx.shortest_path(G, start_node, target_node)\n",
    "shortest_path"
   ]
  }
 ],
 "metadata": {
  "kernelspec": {
   "display_name": "py39",
   "language": "python",
   "name": "python3"
  },
  "language_info": {
   "codemirror_mode": {
    "name": "ipython",
    "version": 3
   },
   "file_extension": ".py",
   "mimetype": "text/x-python",
   "name": "python",
   "nbconvert_exporter": "python",
   "pygments_lexer": "ipython3",
   "version": "3.9.16"
  },
  "orig_nbformat": 4
 },
 "nbformat": 4,
 "nbformat_minor": 2
}
