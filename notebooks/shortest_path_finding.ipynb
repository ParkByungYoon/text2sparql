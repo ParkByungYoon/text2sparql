{
 "cells": [
  {
   "cell_type": "code",
   "execution_count": 1,
   "metadata": {},
   "outputs": [],
   "source": [
    "import sys\n",
    "sys.path.append('../')\n",
    "from graph import *\n",
    "import pandas as pd"
   ]
  },
  {
   "cell_type": "code",
   "execution_count": 2,
   "metadata": {},
   "outputs": [],
   "source": [
    "# Load unit path data\n",
    "unit_path = pd.read_csv('../unit_path.csv')"
   ]
  },
  {
   "cell_type": "code",
   "execution_count": 3,
   "metadata": {},
   "outputs": [],
   "source": [
    "G = base_graph_generation(unit_path)"
   ]
  },
  {
   "cell_type": "code",
   "execution_count": 4,
   "metadata": {},
   "outputs": [],
   "source": [
    "source_node = 'schema.MusicAlbum'\n",
    "target_node = 'schema.Country'"
   ]
  },
  {
   "cell_type": "code",
   "execution_count": 5,
   "metadata": {},
   "outputs": [
    {
     "data": {
      "text/plain": [
       "[('schema.MusicAlbum', 'SKMO_v2.4_0223.hasTrack', 'mo.Track'),\n",
       " ('mo.Track', 'SKMO_v2.4_0223.isSungBy', 'mo.MusicGroup'),\n",
       " ('mo.MusicGroup', 'SKMO_v2.4_0223.debutNation', 'schema.Country')]"
      ]
     },
     "execution_count": 5,
     "metadata": {},
     "output_type": "execute_result"
    }
   ],
   "source": [
    "result = find_shortest_path(G, source_node, target_node)\n",
    "result"
   ]
  },
  {
   "cell_type": "code",
   "execution_count": 6,
   "metadata": {},
   "outputs": [
    {
     "data": {
      "text/plain": [
       "[('schema.MusicAlbum', 'SKMO_v2.4_0223.hasTrack', 'mo.Track'),\n",
       " ('mo.Track', 'SKMO_v2.4_0223.isSungBy', 'mo.MusicGroup'),\n",
       " ('mo.MusicGroup', 'SKMO_v2.4_0223.hasLeader', 'foaf.Person'),\n",
       " ('foaf.Person', 'schema.nationality', 'schema.Country')]"
      ]
     },
     "execution_count": 6,
     "metadata": {},
     "output_type": "execute_result"
    }
   ],
   "source": [
    "result = find_shortest_path(G, source_node, target=target_node, p_name='schema.nationality')\n",
    "result"
   ]
  },
  {
   "cell_type": "code",
   "execution_count": 7,
   "metadata": {},
   "outputs": [
    {
     "data": {
      "text/plain": [
       "[('schema.MusicAlbum', 'SKMO_v2.4_0223.hasSinger', 'foaf.Person'),\n",
       " ('foaf.Person', 'schema.nationality', 'schema.Country')]"
      ]
     },
     "execution_count": 7,
     "metadata": {},
     "output_type": "execute_result"
    }
   ],
   "source": [
    "result = find_shortest_path(G, source_node, target=target_node, p_name='schema.nationality', n_triple=3)\n",
    "result"
   ]
  },
  {
   "cell_type": "code",
   "execution_count": 8,
   "metadata": {},
   "outputs": [
    {
     "data": {
      "text/plain": [
       "[('schema.MusicAlbum', 'SKMO_v2.4_0223.hasTrack', 'mo.Track'),\n",
       " ('mo.Track', 'SKMO_v2.4_0223.isSungBy', 'mo.MusicGroup'),\n",
       " ('mo.MusicGroup', 'SKMO_v2.4_0223.hasLeader', 'foaf.Person'),\n",
       " ('foaf.Person', 'schema.nationality', 'schema.Country')]"
      ]
     },
     "execution_count": 8,
     "metadata": {},
     "output_type": "execute_result"
    }
   ],
   "source": [
    "result = find_shortest_path(G, source_node, p_name='schema.nationality')\n",
    "result"
   ]
  }
 ],
 "metadata": {
  "kernelspec": {
   "display_name": "py39",
   "language": "python",
   "name": "python3"
  },
  "language_info": {
   "codemirror_mode": {
    "name": "ipython",
    "version": 3
   },
   "file_extension": ".py",
   "mimetype": "text/x-python",
   "name": "python",
   "nbconvert_exporter": "python",
   "pygments_lexer": "ipython3",
   "version": "3.9.16"
  },
  "orig_nbformat": 4
 },
 "nbformat": 4,
 "nbformat_minor": 2
}
