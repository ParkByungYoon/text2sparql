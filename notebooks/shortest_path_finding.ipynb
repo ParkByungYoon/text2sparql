{
 "cells": [
  {
   "cell_type": "code",
   "execution_count": 1,
   "metadata": {},
   "outputs": [],
   "source": [
    "import pandas as pd\n",
    "import networkx as nx\n",
    "import matplotlib.pyplot as plt"
   ]
  },
  {
   "cell_type": "code",
   "execution_count": 2,
   "metadata": {},
   "outputs": [],
   "source": [
    "# Load unit path data\n",
    "unit_path = pd.read_csv('../unit_path.csv')"
   ]
  },
  {
   "cell_type": "code",
   "execution_count": 3,
   "metadata": {},
   "outputs": [],
   "source": [
    "def generate_graph():\n",
    "    G = nx.DiGraph()\n",
    "\n",
    "    for index, row in unit_path.iterrows():\n",
    "        source = row['domain']  \n",
    "        target = row['range']   \n",
    "        edge = row['P']         \n",
    "        weight = row['W']       \n",
    "\n",
    "        G.add_node(source)        \n",
    "        G.add_node(target)\n",
    "\n",
    "        if source in G and target in G[source].keys():\n",
    "            if weight < G[source][target]['weight']:\n",
    "                G.remove_edge(source, target)\n",
    "            else: continue\n",
    "            \n",
    "        G.add_edge(source, target, property=edge, weight=weight, label=edge)  # 엣지 추가\n",
    "    \n",
    "    return G"
   ]
  },
  {
   "cell_type": "code",
   "execution_count": 4,
   "metadata": {},
   "outputs": [],
   "source": [
    "G = generate_graph()"
   ]
  },
  {
   "cell_type": "code",
   "execution_count": 5,
   "metadata": {},
   "outputs": [],
   "source": [
    "source_node = 'schema.MusicAlbum'\n",
    "target_node = 'schema.Country'"
   ]
  },
  {
   "cell_type": "code",
   "execution_count": 18,
   "metadata": {},
   "outputs": [],
   "source": [
    "def has_property(path, p_value):\n",
    "    if p_value == None:\n",
    "        return True\n",
    "    \n",
    "    p_values = []\n",
    "    for i in range(len(path) - 1):\n",
    "        source_node = path[i]\n",
    "        target_node = path[i + 1]\n",
    "        edge_data = G[source_node][target_node]\n",
    "        p_values.append(edge_data['property'])\n",
    "    return (p_value in p_values)"
   ]
  }
 ],
 "metadata": {
  "kernelspec": {
   "display_name": "py39",
   "language": "python",
   "name": "python3"
  },
  "language_info": {
   "codemirror_mode": {
    "name": "ipython",
    "version": 3
   },
   "file_extension": ".py",
   "mimetype": "text/x-python",
   "name": "python",
   "nbconvert_exporter": "python",
   "pygments_lexer": "ipython3",
   "version": "3.9.16"
  },
  "orig_nbformat": 4
 },
 "nbformat": 4,
 "nbformat_minor": 2
}
