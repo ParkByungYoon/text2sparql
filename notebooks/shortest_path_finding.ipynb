{
 "cells": [
  {
   "cell_type": "code",
   "execution_count": 1,
   "metadata": {},
   "outputs": [],
   "source": [
    "import pandas as pd\n",
    "import networkx as nx\n",
    "import matplotlib.pyplot as plt"
   ]
  },
  {
   "cell_type": "code",
   "execution_count": 2,
   "metadata": {},
   "outputs": [],
   "source": [
    "# Load unit path data\n",
    "unit_path = pd.read_csv('../unit_path.csv')"
   ]
  },
  {
   "cell_type": "code",
   "execution_count": 3,
   "metadata": {},
   "outputs": [],
   "source": [
    "def generate_graph():\n",
    "    G = nx.MultiDiGraph()\n",
    "\n",
    "    for index, row in unit_path.iterrows():\n",
    "        source = row['domain']  \n",
    "        target = row['range']   \n",
    "        edge = row['P']         \n",
    "        weight = row['W']       \n",
    "\n",
    "        G.add_node(source)        \n",
    "        G.add_node(target)\n",
    "            \n",
    "        G.add_edge(source, target, property=edge, weight=weight, label=edge)  # 엣지 추가\n",
    "    \n",
    "    return G"
   ]
  },
  {
   "cell_type": "code",
   "execution_count": 4,
   "metadata": {},
   "outputs": [],
   "source": [
    "G = generate_graph()"
   ]
  },
  {
   "cell_type": "code",
   "execution_count": 5,
   "metadata": {},
   "outputs": [],
   "source": [
    "source_node = 'schema.MusicAlbum'\n",
    "target_node = 'schema.Country'"
   ]
  },
  {
   "cell_type": "code",
   "execution_count": 6,
   "metadata": {},
   "outputs": [
    {
     "data": {
      "text/plain": [
       "['schema.MusicAlbum', 'mo.Track', 'mo.MusicGroup', 'schema.Country']"
      ]
     },
     "execution_count": 6,
     "metadata": {},
     "output_type": "execute_result"
    }
   ],
   "source": [
    "nx.shortest_path(G, source_node, target_node, weight='weight')"
   ]
  },
  {
   "cell_type": "code",
   "execution_count": 7,
   "metadata": {},
   "outputs": [],
   "source": [
    "from heapq import heappop, heappush\n",
    "from itertools import count\n",
    "\n",
    "TRIPLE_NUM = 4 # shortest path 길이 (triple 개수) 제한\n",
    "\n",
    "def find_shortest_path(G, source, target, p_name=None):\n",
    "    push = heappush\n",
    "    pop = heappop\n",
    "    \n",
    "    c = count()\n",
    "    fringe = []\n",
    "    path = [source]\n",
    "    result = []\n",
    "\n",
    "    if source == target:\n",
    "        return result\n",
    "    \n",
    "    push(fringe, (0, next(c), source, path))\n",
    "\n",
    "    while fringe:\n",
    "        (d, loop, v, path) = pop(fringe)\n",
    "\n",
    "        # if len(path)//2 >= TRIPLE_NUM:\n",
    "        #     continue\n",
    "\n",
    "        if path[-1] == target:\n",
    "            if p_name is None or p_name in path:\n",
    "                result.append((d,path))\n",
    "            continue\n",
    "\n",
    "        for u, edges in G._adj[v].items():\n",
    "            if u in path:\n",
    "                continue\n",
    "            for _, e in edges.items():\n",
    "                cost = e['weight']\n",
    "                if cost is None:\n",
    "                    continue\n",
    "                vu_dist = d + cost\n",
    "\n",
    "                new_path = list()\n",
    "                new_path += path\n",
    "                new_path += [e['property'], u]\n",
    "\n",
    "                push(fringe, (vu_dist, next(c), u, new_path))\n",
    "    \n",
    "    if len(result) == 0:\n",
    "        raise nx.NetworkXNoPath(f\"Node {target} not reachable from {source} with {p_name}\")\n",
    "    \n",
    "    return sorted(result)[0][1][::2]"
   ]
  },
  {
   "cell_type": "code",
   "execution_count": 8,
   "metadata": {},
   "outputs": [
    {
     "data": {
      "text/plain": [
       "['schema.MusicAlbum', 'mo.Track', 'mo.MusicGroup', 'schema.Country']"
      ]
     },
     "execution_count": 8,
     "metadata": {},
     "output_type": "execute_result"
    }
   ],
   "source": [
    "result = find_shortest_path(G, source_node, target_node, p_name=None)\n",
    "result"
   ]
  },
  {
   "cell_type": "code",
   "execution_count": 9,
   "metadata": {},
   "outputs": [
    {
     "data": {
      "text/plain": [
       "['schema.MusicAlbum',\n",
       " 'mo.Track',\n",
       " 'mo.MusicGroup',\n",
       " 'foaf.Person',\n",
       " 'schema.Country']"
      ]
     },
     "execution_count": 9,
     "metadata": {},
     "output_type": "execute_result"
    }
   ],
   "source": [
    "result = find_shortest_path(G, source_node, target_node, p_name='schema.nationality')\n",
    "result"
   ]
  }
 ],
 "metadata": {
  "kernelspec": {
   "display_name": "py39",
   "language": "python",
   "name": "python3"
  },
  "language_info": {
   "codemirror_mode": {
    "name": "ipython",
    "version": 3
   },
   "file_extension": ".py",
   "mimetype": "text/x-python",
   "name": "python",
   "nbconvert_exporter": "python",
   "pygments_lexer": "ipython3",
   "version": "3.9.16"
  },
  "orig_nbformat": 4
 },
 "nbformat": 4,
 "nbformat_minor": 2
}
