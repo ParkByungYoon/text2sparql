{
 "cells": [
  {
   "cell_type": "code",
   "execution_count": 12,
   "metadata": {},
   "outputs": [],
   "source": [
    "import sys\n",
    "sys.path.append('../')\n",
    "from setting import config_read"
   ]
  },
  {
   "cell_type": "code",
   "execution_count": 13,
   "metadata": {},
   "outputs": [],
   "source": [
    "from elasticsearch import Elasticsearch\n",
    "import pandas as pd\n",
    "from path import *\n",
    "from graph import ConceptualGraphGenerator\n",
    "from map import ResourceMapper"
   ]
  },
  {
   "cell_type": "code",
   "execution_count": 14,
   "metadata": {},
   "outputs": [],
   "source": [
    "config = config_read('../')\n",
    "\n",
    "# Elasticsearch\n",
    "server_ip = config['elasticsearch']['ip']\n",
    "index_name = config['elasticsearch']['name']\n",
    "es = Elasticsearch(server_ip)\n",
    "\n",
    "# Unit Path\n",
    "unit_path = pd.read_csv('../unit_path.csv')\n",
    "G = generate_graph(unit_path)\n",
    "\n",
    "rm = ResourceMapper(config)\n",
    "cgg = ConceptualGraphGenerator(config)"
   ]
  },
  {
   "cell_type": "code",
   "execution_count": 16,
   "metadata": {},
   "outputs": [],
   "source": [
    "# user_input = '뱅뱅뱅 부른 빅뱅 소속사는?'\n",
    "user_input = '용감한 형제가 작곡한 노래의 장르는?'\n",
    "resource_combinations = rm.process(user_input)\n",
    "conceptual_graph = cgg.generate_conceptual_graph(resource_combinations)"
   ]
  },
  {
   "cell_type": "code",
   "execution_count": 17,
   "metadata": {},
   "outputs": [],
   "source": [
    "def get_tbox(resource):\n",
    "    search_query = {\"query\":{\"term\":{\"URI.keyword\": resource}}}\n",
    "    result = es.search(index=index_name, body=search_query)\n",
    "    return result['hits']['hits'][0]['_source']['Tbox']"
   ]
  },
  {
   "cell_type": "code",
   "execution_count": 18,
   "metadata": {},
   "outputs": [],
   "source": [
    "ca2sp = {}\n",
    "\n",
    "for cg in conceptual_graph:\n",
    "\n",
    "    for ca in cg:\n",
    "        if ca in ca2sp: \n",
    "            continue\n",
    "        else:\n",
    "            ca2sp[ca] = []\n",
    "\n",
    "        d,p,r = ca\n",
    "\n",
    "        # Restict search space to Tbox level\n",
    "        if not G.has_node(str(d)):\n",
    "            d = get_tbox(d)\n",
    "        else: d = [d]\n",
    "\n",
    "        if not G.has_node(str(r)):\n",
    "            r = get_tbox(r)\n",
    "        else: r = [r]\n",
    "\n",
    "        p = [p]\n",
    "\n",
    "        # Find shortest path\n",
    "        for u,e,v in itertools.product(d,p,r):\n",
    "            if e == 'Any P': e=None\n",
    "\n",
    "            score, result = find_shortest_path(G, u, v, e, weight=False) \n",
    "            if len(result) == 0: continue\n",
    "            ca2sp[ca].append((score,result))"
   ]
  },
  {
   "cell_type": "code",
   "execution_count": 19,
   "metadata": {},
   "outputs": [
    {
     "name": "stdout",
     "output_type": "stream",
     "text": [
      "----------------------------------------------------------------------------------------------------\n",
      "('skmo:용감한_형제', 'skmo:isComposedBy', 'mo:Track')의 shortest path : \n",
      "[('foaf:Person', 'skmo:isComposedBy', 'mo:Track')]\n",
      "----------------------------------------------------------------------------------------------------\n",
      "('mo:Track', 'Any P', 'skmo:Genre')의 shortest path : \n",
      "[('mo:Track', 'skmo:hasGenre', 'skmo:Genre')]\n",
      "----------------------------------------------------------------------------------------------------\n",
      "('mo:Track', 'skmo:hasGenre', 'owl:Thing')의 shortest path : \n",
      "[('mo:Track', 'skmo:hasGenre', 'skmo:Genre'), ('skmo:Genre', 'rdfs:subClassOf', 'owl:Thing')]\n",
      "----------------------------------------------------------------------------------------------------\n"
     ]
    }
   ],
   "source": [
    "# Shortest Path\n",
    "for k,v in ca2sp.items():\n",
    "    if len(v) == 0:\n",
    "        print(f'{k}의 shortest path : ')\n",
    "        print(': 일치하는 shortest path가 없습니다.\\n')\n",
    "    else:\n",
    "        print('-'*100)\n",
    "        print(f'{k}의 shortest path : ')\n",
    "        for elem in v:\n",
    "            print(elem[1])\n",
    "            # for e in elem:\n",
    "            #     print(e)\n",
    "print('-'*100)"
   ]
  },
  {
   "cell_type": "code",
   "execution_count": 20,
   "metadata": {},
   "outputs": [
    {
     "name": "stdout",
     "output_type": "stream",
     "text": [
      "2 [[('foaf:Person', 'skmo:isComposedBy', 'mo:Track')], [('mo:Track', 'skmo:hasGenre', 'skmo:Genre')]]\n",
      "3 [[('foaf:Person', 'skmo:isComposedBy', 'mo:Track')], [('mo:Track', 'skmo:hasGenre', 'skmo:Genre'), ('skmo:Genre', 'rdfs:subClassOf', 'owl:Thing')]]\n",
      "\n",
      ": 총 2개의 query graph candidates generated\n"
     ]
    }
   ],
   "source": [
    "query_graph = []\n",
    "for cg in conceptual_graph:\n",
    "    query_graph_candidates = []\n",
    "    for ca in cg:\n",
    "        query_graph_candidates.append(ca2sp[ca])\n",
    "    for qg in itertools.product(*query_graph_candidates):\n",
    "        sp_list = []\n",
    "        query_graph_score = 0\n",
    "        for arc_score, sp in qg:\n",
    "            query_graph_score += arc_score\n",
    "            sp_list.append(sp)\n",
    "        query_graph.append((query_graph_score, sp_list))\n",
    "\n",
    "for score, qg in query_graph:\n",
    "    print(score, qg)\n",
    "\n",
    "print(f'\\n: 총 {len(query_graph)}개의 query graph candidates generated')"
   ]
  },
  {
   "cell_type": "code",
   "execution_count": 21,
   "metadata": {},
   "outputs": [],
   "source": [
    "new_query_graph = []\n",
    "for score, qg in query_graph:\n",
    "    if qg[-1][-1][1] != 'rdfs:subClassOf' and qg[0][0][1] != 'rdfs:subClassOf':\n",
    "        new_query_graph.append((score/len(qg),qg))\n",
    "        continue\n",
    "    \n",
    "    if qg[-1][-1][1] == 'rdfs:subClassOf':\n",
    "        new_qg = []\n",
    "        new_score = score\n",
    "        terminated = False\n",
    "\n",
    "        for sp in qg[::-1]:\n",
    "            n_delete = 0\n",
    "            if terminated:\n",
    "                new_qg.insert(0,sp)\n",
    "                continue\n",
    "            for arc in sp[::-1]:\n",
    "                if arc[1] == 'rdfs:subClassOf':\n",
    "                    n_delete+=1\n",
    "                    new_score-=1\n",
    "                else: \n",
    "                    terminated = True\n",
    "                    break\n",
    "            if len(sp)-n_delete == 0: continue\n",
    "            new_qg.insert(0, sp[:len(sp)-n_delete])\n",
    "        qg = new_qg\n",
    "\n",
    "    if qg[0][0][1] == 'rdfs:subClassOf':\n",
    "        new_qg = []\n",
    "        terminated = False\n",
    "\n",
    "        for sp in qg:\n",
    "            n_delete = 0\n",
    "            if terminated:\n",
    "                new_qg.append(sp)\n",
    "                continue\n",
    "            for arc in sp:\n",
    "                if arc[1] == 'rdfs:subClassOf':\n",
    "                    n_delete+=1\n",
    "                    new_score-=1\n",
    "                else: \n",
    "                    terminated = True\n",
    "                    break\n",
    "            if len(sp)-n_delete == 0: continue\n",
    "            new_qg.append(sp[n_delete:])\n",
    "        \n",
    "    if len(new_qg) == 0: continue\n",
    "    \n",
    "    if (new_score/len(new_qg), new_qg) in new_query_graph : continue\n",
    "    new_query_graph.append((new_score/len(new_qg), new_qg))"
   ]
  },
  {
   "cell_type": "code",
   "execution_count": 22,
   "metadata": {},
   "outputs": [
    {
     "name": "stdout",
     "output_type": "stream",
     "text": [
      "[[('foaf:Person', 'skmo:isComposedBy', 'mo:Track')], [('mo:Track', 'skmo:hasGenre', 'skmo:Genre')]]\n",
      "\n",
      ": 총 1개의 query graph candidates generated\n"
     ]
    }
   ],
   "source": [
    "for score, qg in new_query_graph:\n",
    "    print(qg)\n",
    "\n",
    "print(f'\\n: 총 {len(new_query_graph)}개의 query graph candidates generated')"
   ]
  },
  {
   "cell_type": "code",
   "execution_count": 23,
   "metadata": {},
   "outputs": [
    {
     "data": {
      "text/plain": [
       "[[('foaf:Person', 'skmo:isComposedBy', 'mo:Track')],\n",
       " [('mo:Track', 'skmo:hasGenre', 'skmo:Genre')]]"
      ]
     },
     "execution_count": 23,
     "metadata": {},
     "output_type": "execute_result"
    }
   ],
   "source": [
    "final_query_graph = sorted(new_query_graph)[0][1]\n",
    "final_query_graph"
   ]
  }
 ],
 "metadata": {
  "kernelspec": {
   "display_name": "py39",
   "language": "python",
   "name": "python3"
  },
  "language_info": {
   "codemirror_mode": {
    "name": "ipython",
    "version": 3
   },
   "file_extension": ".py",
   "mimetype": "text/x-python",
   "name": "python",
   "nbconvert_exporter": "python",
   "pygments_lexer": "ipython3",
   "version": "3.9.16"
  }
 },
 "nbformat": 4,
 "nbformat_minor": 2
}
