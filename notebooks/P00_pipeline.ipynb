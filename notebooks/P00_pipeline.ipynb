{
 "cells": [
  {
   "cell_type": "code",
   "execution_count": 1,
   "metadata": {},
   "outputs": [],
   "source": [
    "import sys\n",
    "sys.path.append('../')\n",
    "from setting import config_read"
   ]
  },
  {
   "cell_type": "code",
   "execution_count": 2,
   "metadata": {},
   "outputs": [
    {
     "name": "stderr",
     "output_type": "stream",
     "text": [
      "* Owlready2 * Warning: optimized Cython parser module 'owlready2_optimized' is not available, defaulting to slower Python implementation\n",
      "\n",
      "Warning: SQLite3 version 3.40.0 and 3.41.2 have huge performance regressions; please install version 3.41.1 or 3.42!\n",
      "\n"
     ]
    }
   ],
   "source": [
    "from mapping import ResourceMapper\n",
    "from graph import *\n",
    "from sparql import SPAQLConverter"
   ]
  },
  {
   "cell_type": "code",
   "execution_count": 3,
   "metadata": {},
   "outputs": [],
   "source": [
    "config = config_read('../')\n",
    "rm = ResourceMapper(config)\n",
    "cgg = ConceptualGraphGenerator(config)\n",
    "qgg = QueryGraphGenerator(config)\n",
    "sc = SPAQLConverter(config)"
   ]
  },
  {
   "cell_type": "markdown",
   "metadata": {},
   "source": [
    "# 2-1. Query Partitioning"
   ]
  },
  {
   "cell_type": "code",
   "execution_count": 4,
   "metadata": {},
   "outputs": [
    {
     "data": {
      "text/plain": [
       "['용감한', '형제', '작곡', '노래', '장르']"
      ]
     },
     "execution_count": 4,
     "metadata": {},
     "output_type": "execute_result"
    }
   ],
   "source": [
    "# user_input = '가수 태연의 첫 데뷔곡은?'\n",
    "# user_input = '뱅뱅뱅 부른 음악그룹의 소속사는?'\n",
    "user_input = '용감한 형제가 작곡한 노래의 장르는?'\n",
    "# user_input = '작곡가이며 가수인 사람'\n",
    "# user_input = '장르가 발라드인 노래'\n",
    "# user_input = '가수 버벌진트가 피처링한 노래'\n",
    "# user_input = '태연이 처음 부른 노래는?'\n",
    "# user_input = '소녀시대의 리더는?'\n",
    "# user_input = '제니의 소속 그룹'\n",
    "# user_input = '레인을 작곡한 사람'\n",
    "# user_input = '국적이 뉴질랜드 사람은?'\n",
    "# user_input = '세월이 가면의 가수는?'\n",
    "# user_input = 'AOA 부른 발라드 노래는?'\n",
    "query_terms = rm.tokenize_query(user_input)\n",
    "query_terms"
   ]
  },
  {
   "cell_type": "code",
   "execution_count": 5,
   "metadata": {},
   "outputs": [
    {
     "data": {
      "text/plain": [
       "[['용감한 형제 작곡 노래 장르'],\n",
       " ['용감한', '형제 작곡 노래 장르'],\n",
       " ['용감한 형제', '작곡 노래 장르'],\n",
       " ['용감한 형제 작곡', '노래 장르'],\n",
       " ['용감한 형제 작곡 노래', '장르'],\n",
       " ['용감한', '형제', '작곡 노래 장르'],\n",
       " ['용감한', '형제 작곡', '노래 장르'],\n",
       " ['용감한', '형제 작곡 노래', '장르'],\n",
       " ['용감한 형제', '작곡', '노래 장르'],\n",
       " ['용감한 형제', '작곡 노래', '장르'],\n",
       " ['용감한 형제 작곡', '노래', '장르'],\n",
       " ['용감한', '형제', '작곡', '노래 장르'],\n",
       " ['용감한', '형제', '작곡 노래', '장르'],\n",
       " ['용감한', '형제 작곡', '노래', '장르'],\n",
       " ['용감한 형제', '작곡', '노래', '장르'],\n",
       " ['용감한', '형제', '작곡', '노래', '장르']]"
      ]
     },
     "execution_count": 5,
     "metadata": {},
     "output_type": "execute_result"
    }
   ],
   "source": [
    "query_patitions = rm.partition_query(query_terms)\n",
    "query_patitions"
   ]
  },
  {
   "cell_type": "markdown",
   "metadata": {},
   "source": [
    "# 2-2. Partition Scoring"
   ]
  },
  {
   "cell_type": "code",
   "execution_count": 6,
   "metadata": {},
   "outputs": [
    {
     "data": {
      "text/plain": [
       "['용감한 형제', '작곡', '노래', '장르']"
      ]
     },
     "execution_count": 6,
     "metadata": {},
     "output_type": "execute_result"
    }
   ],
   "source": [
    "p_star, score_list = rm.score_partition(query_patitions)\n",
    "p_star"
   ]
  },
  {
   "cell_type": "markdown",
   "metadata": {},
   "source": [
    "# 2-3. Generation of resource combination"
   ]
  },
  {
   "cell_type": "code",
   "execution_count": 7,
   "metadata": {},
   "outputs": [
    {
     "data": {
      "text/plain": [
       "[('skmo:용감한_형제', 'skmo:isComposedBy', 'mo:Track', 'skmo:Genre'),\n",
       " ('skmo:용감한_형제', 'skmo:isComposedBy', 'mo:Track', 'skmo:hasGenre')]"
      ]
     },
     "execution_count": 7,
     "metadata": {},
     "output_type": "execute_result"
    }
   ],
   "source": [
    "resource_combinations = rm.combinate_resource(p_star)\n",
    "resource_combinations"
   ]
  },
  {
   "cell_type": "markdown",
   "metadata": {},
   "source": [
    "# 3. Conceptual graph generation"
   ]
  },
  {
   "cell_type": "code",
   "execution_count": 8,
   "metadata": {},
   "outputs": [
    {
     "data": {
      "text/plain": [
       "[[('skmo:용감한_형제', 'skmo:isComposedBy', 'mo:Track'),\n",
       "  ('mo:Track', 'Any P', 'skmo:Genre')],\n",
       " [('skmo:용감한_형제', 'skmo:isComposedBy', 'skmo:Genre'),\n",
       "  ('mo:Track', 'Any P', 'skmo:Genre')],\n",
       " [('skmo:용감한_형제', 'skmo:isComposedBy', 'mo:Track'),\n",
       "  ('mo:Track', 'skmo:hasGenre', 'owl:Thing')],\n",
       " [('skmo:용감한_형제', 'skmo:isComposedBy', 'owl:Thing'),\n",
       "  ('mo:Track', 'skmo:hasGenre', 'owl:Thing')],\n",
       " [('skmo:용감한_형제', 'skmo:hasGenre', 'owl:Thing'),\n",
       "  ('mo:Track', 'skmo:hasGenre', 'owl:Thing')]]"
      ]
     },
     "execution_count": 8,
     "metadata": {},
     "output_type": "execute_result"
    }
   ],
   "source": [
    "conceptual_graph = cgg.generate_conceptual_graph(resource_combinations)\n",
    "conceptual_graph"
   ]
  },
  {
   "cell_type": "markdown",
   "metadata": {},
   "source": [
    "# 4. Query graph generation"
   ]
  },
  {
   "cell_type": "code",
   "execution_count": 9,
   "metadata": {},
   "outputs": [
    {
     "data": {
      "text/plain": [
       "{('skmo:용감한_형제',\n",
       "  'skmo:isComposedBy',\n",
       "  'mo:Track'): [(0.7517241379310344,\n",
       "   [('mo:Track', 'skmo:isComposedBy', 'foaf:Person(skmo:용감한_형제)')])],\n",
       " ('mo:Track',\n",
       "  'Any P',\n",
       "  'skmo:Genre'): [(0.0, [('mo:Track', 'skmo:hasGenre', 'skmo:Genre')])],\n",
       " ('skmo:용감한_형제', 'skmo:isComposedBy', 'skmo:Genre'): [],\n",
       " ('mo:Track',\n",
       "  'skmo:hasGenre',\n",
       "  'owl:Thing'): [(0.0,\n",
       "   [('mo:Track', 'skmo:hasGenre', 'skmo:Genre'),\n",
       "    ('skmo:Genre', 'rdfs:subClassOf', 'owl:Thing')])],\n",
       " ('skmo:용감한_형제',\n",
       "  'skmo:isComposedBy',\n",
       "  'owl:Thing'): [(0.8387096774193549,\n",
       "   [('foaf:Person(skmo:용감한_형제)', 'skmo:debutTrack', 'mo:Track'),\n",
       "    ('mo:Track', 'skmo:isComposedBy', 'skmo:MusicArtist'),\n",
       "    ('skmo:MusicArtist', 'rdfs:subClassOf', 'owl:Thing')]), (0.5,\n",
       "   [('foaf:Person(skmo:용감한_형제)', 'skmo:debutTrack', 'mo:Track'),\n",
       "    ('mo:Track', 'skmo:isComposedBy', 'foaf:Organization'),\n",
       "    ('foaf:Organization', 'rdfs:subClassOf', 'owl:Thing')])],\n",
       " ('skmo:용감한_형제',\n",
       "  'skmo:hasGenre',\n",
       "  'owl:Thing'): [(0.0,\n",
       "   [('foaf:Person(skmo:용감한_형제)', 'skmo:debutTrack', 'mo:Track'),\n",
       "    ('mo:Track', 'skmo:hasGenre', 'skmo:Genre'),\n",
       "    ('skmo:Genre', 'rdfs:subClassOf', 'owl:Thing')])]}"
      ]
     },
     "execution_count": 9,
     "metadata": {},
     "output_type": "execute_result"
    }
   ],
   "source": [
    "shortest_path_dict = qgg.search_at_tbox_level(conceptual_graph)\n",
    "shortest_path_dict"
   ]
  },
  {
   "cell_type": "code",
   "execution_count": 10,
   "metadata": {},
   "outputs": [
    {
     "data": {
      "text/plain": [
       "[(0.6241379310344828,\n",
       "  [('mo:Track', 'skmo:isComposedBy', 'foaf:Person(skmo:용감한_형제)'),\n",
       "   ('mo:Track', 'skmo:hasGenre', 'skmo:Genre')]),\n",
       " (0.41609195402298854,\n",
       "  [('mo:Track', 'skmo:isComposedBy', 'foaf:Person(skmo:용감한_형제)'),\n",
       "   ('mo:Track', 'skmo:hasGenre', 'skmo:Genre'),\n",
       "   ('skmo:Genre', 'rdfs:subClassOf', 'owl:Thing')]),\n",
       " (0.23225806451612901,\n",
       "  [('foaf:Person(skmo:용감한_형제)', 'skmo:debutTrack', 'mo:Track'),\n",
       "   ('mo:Track', 'skmo:isComposedBy', 'skmo:MusicArtist'),\n",
       "   ('skmo:MusicArtist', 'rdfs:subClassOf', 'owl:Thing'),\n",
       "   ('mo:Track', 'skmo:hasGenre', 'skmo:Genre'),\n",
       "   ('skmo:Genre', 'rdfs:subClassOf', 'owl:Thing')]),\n",
       " (0.3,\n",
       "  [('foaf:Person(skmo:용감한_형제)', 'skmo:debutTrack', 'mo:Track'),\n",
       "   ('mo:Track', 'skmo:isComposedBy', 'foaf:Organization'),\n",
       "   ('foaf:Organization', 'rdfs:subClassOf', 'owl:Thing'),\n",
       "   ('mo:Track', 'skmo:hasGenre', 'skmo:Genre'),\n",
       "   ('skmo:Genre', 'rdfs:subClassOf', 'owl:Thing')]),\n",
       " (0.4,\n",
       "  [('foaf:Person(skmo:용감한_형제)', 'skmo:debutTrack', 'mo:Track'),\n",
       "   ('mo:Track', 'skmo:hasGenre', 'skmo:Genre'),\n",
       "   ('skmo:Genre', 'rdfs:subClassOf', 'owl:Thing'),\n",
       "   ('mo:Track', 'skmo:hasGenre', 'skmo:Genre'),\n",
       "   ('skmo:Genre', 'rdfs:subClassOf', 'owl:Thing')])]"
      ]
     },
     "execution_count": 10,
     "metadata": {},
     "output_type": "execute_result"
    }
   ],
   "source": [
    "query_graph = qgg.generate_query_graph(conceptual_graph, shortest_path_dict)\n",
    "query_graph"
   ]
  },
  {
   "cell_type": "markdown",
   "metadata": {},
   "source": [
    "# 5. SPARQL Conversion"
   ]
  },
  {
   "cell_type": "code",
   "execution_count": 11,
   "metadata": {},
   "outputs": [
    {
     "name": "stdout",
     "output_type": "stream",
     "text": [
      "k-pop  R&B  hip_hop  "
     ]
    }
   ],
   "source": [
    "sc.process(query_graph)"
   ]
  },
  {
   "cell_type": "code",
   "execution_count": 12,
   "metadata": {},
   "outputs": [
    {
     "data": {
      "text/plain": [
       "[('mo:Track', 'skmo:isComposedBy', 'foaf:Person(skmo:용감한_형제)'),\n",
       " ('mo:Track', 'skmo:hasGenre', 'skmo:Genre')]"
      ]
     },
     "execution_count": 12,
     "metadata": {},
     "output_type": "execute_result"
    }
   ],
   "source": [
    "final_query_graph = sc.select_query_graph(query_graph)\n",
    "final_query_graph"
   ]
  },
  {
   "cell_type": "code",
   "execution_count": 13,
   "metadata": {},
   "outputs": [
    {
     "data": {
      "text/plain": [
       "[('mo:Track', 'skmo:isComposedBy', 'foaf:Person(skmo:용감한_형제)'),\n",
       " ('mo:Track', 'skmo:hasGenre', 'skmo:Genre')]"
      ]
     },
     "execution_count": 13,
     "metadata": {},
     "output_type": "execute_result"
    }
   ],
   "source": [
    "relation_triples = sc.extract_relation_triples(final_query_graph)\n",
    "relation_triples"
   ]
  },
  {
   "cell_type": "code",
   "execution_count": 14,
   "metadata": {},
   "outputs": [
    {
     "name": "stdout",
     "output_type": "stream",
     "text": [
      "<USER Query>\n",
      "용감한 형제가 작곡한 노래의 장르는?\n",
      "\n",
      "<SPARQL Query>\n",
      "SELECT DISTINCT ?target \n",
      "WHERE\n",
      "{\n",
      "    ?x0 skmo:isComposedBy skmo:용감한_형제; skmo:hasGenre ?target\n",
      "}\n",
      "\n",
      "<Answer>\n",
      "k-pop  R&B  hip_hop  "
     ]
    }
   ],
   "source": [
    "print('<USER Query>')\n",
    "print(user_input)\n",
    "print()\n",
    "\n",
    "\n",
    "print('<SPARQL Query>')\n",
    "knows_query = sc.generate_query(relation_triples)\n",
    "print(knows_query)\n",
    "\n",
    "\n",
    "print('\\n<Answer>')\n",
    "result = sc.excute_query(knows_query)\n",
    "sc.print_result(result)"
   ]
  }
 ],
 "metadata": {
  "kernelspec": {
   "display_name": "py39",
   "language": "python",
   "name": "python3"
  },
  "language_info": {
   "codemirror_mode": {
    "name": "ipython",
    "version": 3
   },
   "file_extension": ".py",
   "mimetype": "text/x-python",
   "name": "python",
   "nbconvert_exporter": "python",
   "pygments_lexer": "ipython3",
   "version": "3.9.16"
  },
  "orig_nbformat": 4
 },
 "nbformat": 4,
 "nbformat_minor": 2
}
