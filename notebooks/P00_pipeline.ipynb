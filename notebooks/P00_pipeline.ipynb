{
 "cells": [
  {
   "cell_type": "code",
   "execution_count": 1,
   "metadata": {},
   "outputs": [],
   "source": [
    "import sys\n",
    "sys.path.append('../')\n",
    "from setting import config_read"
   ]
  },
  {
   "cell_type": "code",
   "execution_count": 2,
   "metadata": {},
   "outputs": [
    {
     "name": "stderr",
     "output_type": "stream",
     "text": [
      "* Owlready2 * Warning: optimized Cython parser module 'owlready2_optimized' is not available, defaulting to slower Python implementation\n",
      "\n",
      "Warning: SQLite3 version 3.40.0 and 3.41.2 have huge performance regressions; please install version 3.41.1 or 3.42!\n",
      "\n"
     ]
    }
   ],
   "source": [
    "from mapping import ResourceMapper\n",
    "from graph import *\n",
    "from sparql import SPAQLConverter"
   ]
  },
  {
   "cell_type": "code",
   "execution_count": 3,
   "metadata": {},
   "outputs": [],
   "source": [
    "config = config_read('../')\n",
    "rm = ResourceMapper(config)\n",
    "cgg = ConceptualGraphGenerator(config)\n",
    "qgg = QueryGraphGenerator(config)\n",
    "sc = SPAQLConverter(config)"
   ]
  },
  {
   "cell_type": "markdown",
   "metadata": {},
   "source": [
    "# 1. Preprocessing"
   ]
  },
  {
   "cell_type": "markdown",
   "metadata": {},
   "source": [
    "# 2-1. Query Partitioning"
   ]
  },
  {
   "cell_type": "code",
   "execution_count": 4,
   "metadata": {},
   "outputs": [
    {
     "data": {
      "text/plain": [
       "['용감한', '형제', '작곡', '노래', '장르']"
      ]
     },
     "execution_count": 4,
     "metadata": {},
     "output_type": "execute_result"
    }
   ],
   "source": [
    "user_query = '용감한 형제가 작곡한 노래의 장르는?'\n",
    "# user_query = '뱅뱅뱅 부른 음악그룹의 소속사는?'\n",
    "# user_query = 'This Love 부른 음악가의 소속 음악 그룹은?'\n",
    "query_terms = rm.tokenize_query(user_query)\n",
    "query_terms"
   ]
  },
  {
   "cell_type": "code",
   "execution_count": 5,
   "metadata": {},
   "outputs": [
    {
     "data": {
      "text/plain": [
       "[['용감한 형제 작곡 노래 장르'],\n",
       " ['용감한', '형제 작곡 노래 장르'],\n",
       " ['용감한 형제', '작곡 노래 장르'],\n",
       " ['용감한 형제 작곡', '노래 장르'],\n",
       " ['용감한 형제 작곡 노래', '장르'],\n",
       " ['용감한', '형제', '작곡 노래 장르'],\n",
       " ['용감한', '형제 작곡', '노래 장르'],\n",
       " ['용감한', '형제 작곡 노래', '장르'],\n",
       " ['용감한 형제', '작곡', '노래 장르'],\n",
       " ['용감한 형제', '작곡 노래', '장르'],\n",
       " ['용감한 형제 작곡', '노래', '장르'],\n",
       " ['용감한', '형제', '작곡', '노래 장르'],\n",
       " ['용감한', '형제', '작곡 노래', '장르'],\n",
       " ['용감한', '형제 작곡', '노래', '장르'],\n",
       " ['용감한 형제', '작곡', '노래', '장르'],\n",
       " ['용감한', '형제', '작곡', '노래', '장르']]"
      ]
     },
     "execution_count": 5,
     "metadata": {},
     "output_type": "execute_result"
    }
   ],
   "source": [
    "query_patitions = rm.partition_query(query_terms)\n",
    "query_patitions"
   ]
  },
  {
   "cell_type": "markdown",
   "metadata": {},
   "source": [
    "# 2-2. Partition Scoring"
   ]
  },
  {
   "cell_type": "code",
   "execution_count": 6,
   "metadata": {},
   "outputs": [
    {
     "data": {
      "text/plain": [
       "['용감한 형제', '작곡', '노래', '장르']"
      ]
     },
     "execution_count": 6,
     "metadata": {},
     "output_type": "execute_result"
    }
   ],
   "source": [
    "p_star, score_list = rm.score_partition(query_patitions)\n",
    "p_star"
   ]
  },
  {
   "cell_type": "markdown",
   "metadata": {},
   "source": [
    "# 2-3. Generation of resource combination"
   ]
  },
  {
   "cell_type": "code",
   "execution_count": 7,
   "metadata": {},
   "outputs": [
    {
     "data": {
      "text/plain": [
       "[('skmo:용감한_형제', 'skmo:isComposedBy', 'mo:Track', 'skmo:Genre'),\n",
       " ('skmo:용감한_형제', 'skmo:isComposedBy', 'mo:Track', 'skmo:hasGenre')]"
      ]
     },
     "execution_count": 7,
     "metadata": {},
     "output_type": "execute_result"
    }
   ],
   "source": [
    "resource_combinations = rm.combinate_resource(p_star)\n",
    "resource_combinations"
   ]
  },
  {
   "cell_type": "markdown",
   "metadata": {},
   "source": [
    "# 3. Conceptual graph generation"
   ]
  },
  {
   "cell_type": "code",
   "execution_count": 8,
   "metadata": {},
   "outputs": [
    {
     "data": {
      "text/plain": [
       "[[('skmo:용감한_형제', 'skmo:isComposedBy', 'mo:Track'),\n",
       "  ('mo:Track', 'Any P', 'skmo:Genre')],\n",
       " [('skmo:용감한_형제', 'skmo:isComposedBy', 'mo:Track'),\n",
       "  ('mo:Track', 'skmo:hasGenre', 'owl:Thing')]]"
      ]
     },
     "execution_count": 8,
     "metadata": {},
     "output_type": "execute_result"
    }
   ],
   "source": [
    "conceptual_graph = cgg.generate_conceptual_graph(resource_combinations)\n",
    "conceptual_graph"
   ]
  },
  {
   "cell_type": "markdown",
   "metadata": {},
   "source": [
    "# 4. Query graph generation"
   ]
  },
  {
   "cell_type": "code",
   "execution_count": 9,
   "metadata": {},
   "outputs": [
    {
     "data": {
      "text/plain": [
       "[(0.7517241379310344,\n",
       "  [('mo:Track', 'skmo:isComposedBy', 'foaf:Person(skmo:용감한_형제)'),\n",
       "   ('mo:Track', 'skmo:hasGenre', 'skmo:Genre')]),\n",
       " (0.7517241379310344,\n",
       "  [('mo:Track', 'skmo:isComposedBy', 'foaf:Person(skmo:용감한_형제)'),\n",
       "   ('mo:Track', 'skmo:hasGenre', 'skmo:Genre'),\n",
       "   ('skmo:Genre', 'rdfs:subClassOf', 'owl:Thing')])]"
      ]
     },
     "execution_count": 9,
     "metadata": {},
     "output_type": "execute_result"
    }
   ],
   "source": [
    "query_graph = qgg.generate_query_graph(conceptual_graph)\n",
    "query_graph"
   ]
  },
  {
   "cell_type": "markdown",
   "metadata": {},
   "source": [
    "# 5. SPARQL Conversion"
   ]
  },
  {
   "cell_type": "code",
   "execution_count": 10,
   "metadata": {},
   "outputs": [
    {
     "name": "stdout",
     "output_type": "stream",
     "text": [
      "SELECT DISTINCT ?target \n",
      "WHERE\n",
      "{\n",
      "    ?x0 skmo:isComposedBy skmo:용감한_형제; skmo:hasGenre ?target\n",
      "}\n",
      "http://www.sktelecom.com/skmo/k-pop\n",
      "http://www.sktelecom.com/skmo/R&B\n",
      "http://www.sktelecom.com/skmo/hip_hop\n"
     ]
    }
   ],
   "source": [
    "knows_query = sc.generate_query(query_graph)\n",
    "print(knows_query)\n",
    "\n",
    "result = sc.excute_query(knows_query)\n",
    "for r in result:\n",
    "    print(r['target'])"
   ]
  }
 ],
 "metadata": {
  "kernelspec": {
   "display_name": "py39",
   "language": "python",
   "name": "python3"
  },
  "language_info": {
   "codemirror_mode": {
    "name": "ipython",
    "version": 3
   },
   "file_extension": ".py",
   "mimetype": "text/x-python",
   "name": "python",
   "nbconvert_exporter": "python",
   "pygments_lexer": "ipython3",
   "version": "3.9.16"
  },
  "orig_nbformat": 4
 },
 "nbformat": 4,
 "nbformat_minor": 2
}
