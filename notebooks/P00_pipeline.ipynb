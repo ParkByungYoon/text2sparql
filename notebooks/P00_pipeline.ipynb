{
 "cells": [
  {
   "cell_type": "code",
   "execution_count": 1,
   "metadata": {},
   "outputs": [],
   "source": [
    "import sys\n",
    "sys.path.append('../')\n",
    "from setting import config_read"
   ]
  },
  {
   "cell_type": "code",
   "execution_count": 2,
   "metadata": {},
   "outputs": [
    {
     "name": "stderr",
     "output_type": "stream",
     "text": [
      "* Owlready2 * Warning: optimized Cython parser module 'owlready2_optimized' is not available, defaulting to slower Python implementation\n",
      "\n",
      "Warning: SQLite3 version 3.40.0 and 3.41.2 have huge performance regressions; please install version 3.41.1 or 3.42!\n",
      "\n"
     ]
    }
   ],
   "source": [
    "from mapping import ResourceMapper\n",
    "from graph import *\n",
    "from sparql import SPAQLConverter"
   ]
  },
  {
   "cell_type": "code",
   "execution_count": 3,
   "metadata": {},
   "outputs": [],
   "source": [
    "config = config_read('../')\n",
    "rm = ResourceMapper(config)\n",
    "cgg = ConceptualGraphGenerator(config)\n",
    "qgg = QueryGraphGenerator(config)\n",
    "sc = SPAQLConverter(config)"
   ]
  },
  {
   "cell_type": "markdown",
   "metadata": {},
   "source": [
    "# 2-1. Query Partitioning"
   ]
  },
  {
   "cell_type": "code",
   "execution_count": 29,
   "metadata": {},
   "outputs": [
    {
     "data": {
      "text/plain": [
       "['제니', '소속', '그룹']"
      ]
     },
     "execution_count": 29,
     "metadata": {},
     "output_type": "execute_result"
    }
   ],
   "source": [
    "# user_input = '가수 태연의 첫 데뷔곡은?'\n",
    "# user_input = '뱅뱅뱅 부른 음악그룹의 소속사는?'\n",
    "# user_input = '용감한 형제가 작곡한 노래의 장르는?'\n",
    "# user_input = '장르가 발라드인 노래'\n",
    "# user_input = '버벌진트가 피처링한 노래'\n",
    "# user_input = '소녀시대의 리더는?'\n",
    "user_input = '제니의 소속 그룹'\n",
    "# user_input = '레인을 작곡한 사람'\n",
    "query_terms = rm.tokenize_query(user_input)\n",
    "query_terms"
   ]
  },
  {
   "cell_type": "code",
   "execution_count": 30,
   "metadata": {},
   "outputs": [
    {
     "data": {
      "text/plain": [
       "[['제니 소속 그룹'], ['제니', '소속 그룹'], ['제니 소속', '그룹'], ['제니', '소속', '그룹']]"
      ]
     },
     "execution_count": 30,
     "metadata": {},
     "output_type": "execute_result"
    }
   ],
   "source": [
    "query_patitions = rm.partition_query(query_terms)\n",
    "query_patitions"
   ]
  },
  {
   "cell_type": "markdown",
   "metadata": {},
   "source": [
    "# 2-2. Partition Scoring"
   ]
  },
  {
   "cell_type": "code",
   "execution_count": 31,
   "metadata": {},
   "outputs": [
    {
     "data": {
      "text/plain": [
       "['제니', '소속', '그룹']"
      ]
     },
     "execution_count": 31,
     "metadata": {},
     "output_type": "execute_result"
    }
   ],
   "source": [
    "p_star, score_list = rm.score_partition(query_patitions)\n",
    "p_star"
   ]
  },
  {
   "cell_type": "markdown",
   "metadata": {},
   "source": [
    "# 2-3. Generation of resource combination"
   ]
  },
  {
   "cell_type": "code",
   "execution_count": 32,
   "metadata": {},
   "outputs": [
    {
     "data": {
      "text/plain": [
       "[('skmo:제니', 'mo:member_of', 'foaf:Group'),\n",
       " ('skmo:제니', 'schema:affiliation', 'foaf:Group')]"
      ]
     },
     "execution_count": 32,
     "metadata": {},
     "output_type": "execute_result"
    }
   ],
   "source": [
    "resource_combinations = rm.combinate_resource(p_star)\n",
    "resource_combinations"
   ]
  },
  {
   "cell_type": "markdown",
   "metadata": {},
   "source": [
    "# 3. Conceptual graph generation"
   ]
  },
  {
   "cell_type": "code",
   "execution_count": 33,
   "metadata": {},
   "outputs": [
    {
     "data": {
      "text/plain": [
       "[[('skmo:제니', 'mo:member_of', 'foaf:Group')],\n",
       " [('skmo:제니', 'schema:affiliation', 'foaf:Group')]]"
      ]
     },
     "execution_count": 33,
     "metadata": {},
     "output_type": "execute_result"
    }
   ],
   "source": [
    "conceptual_graph = cgg.generate_conceptual_graph(resource_combinations)\n",
    "conceptual_graph"
   ]
  },
  {
   "cell_type": "markdown",
   "metadata": {},
   "source": [
    "# 4. Query graph generation"
   ]
  },
  {
   "cell_type": "code",
   "execution_count": 34,
   "metadata": {},
   "outputs": [
    {
     "data": {
      "text/plain": [
       "[(0.5,\n",
       "  [('foaf:Person(skmo:제니)', 'mo:member_of', 'mo:MusicGroup'),\n",
       "   ('mo:MusicGroup', 'rdfs:subClassOf', 'foaf:Group')])]"
      ]
     },
     "execution_count": 34,
     "metadata": {},
     "output_type": "execute_result"
    }
   ],
   "source": [
    "query_graph = qgg.generate_query_graph(conceptual_graph)\n",
    "query_graph"
   ]
  },
  {
   "cell_type": "markdown",
   "metadata": {},
   "source": [
    "# 5. SPARQL Conversion"
   ]
  },
  {
   "cell_type": "code",
   "execution_count": 35,
   "metadata": {},
   "outputs": [
    {
     "data": {
      "text/plain": [
       "[('foaf:Person(skmo:제니)', 'mo:member_of', 'mo:MusicGroup'),\n",
       " ('mo:MusicGroup', 'rdfs:subClassOf', 'foaf:Group')]"
      ]
     },
     "execution_count": 35,
     "metadata": {},
     "output_type": "execute_result"
    }
   ],
   "source": [
    "final_query_graph = sc.select_query_graph(query_graph)\n",
    "final_query_graph"
   ]
  },
  {
   "cell_type": "code",
   "execution_count": 36,
   "metadata": {},
   "outputs": [
    {
     "data": {
      "text/plain": [
       "[('foaf:Person(skmo:제니)', 'mo:member_of', 'mo:MusicGroup')]"
      ]
     },
     "execution_count": 36,
     "metadata": {},
     "output_type": "execute_result"
    }
   ],
   "source": [
    "relation_triples = sc.extract_relation_triples(final_query_graph)\n",
    "relation_triples"
   ]
  },
  {
   "cell_type": "code",
   "execution_count": 37,
   "metadata": {},
   "outputs": [
    {
     "name": "stdout",
     "output_type": "stream",
     "text": [
      "SELECT DISTINCT ?target \n",
      "WHERE\n",
      "{\n",
      "    skmo:제니 mo:member_of ?target\n",
      "}\n"
     ]
    }
   ],
   "source": [
    "knows_query = sc.generate_query(relation_triples)\n",
    "print(knows_query)"
   ]
  },
  {
   "cell_type": "code",
   "execution_count": 38,
   "metadata": {},
   "outputs": [
    {
     "name": "stdout",
     "output_type": "stream",
     "text": [
      "http://www.sktelecom.com/skmo/블랙핑크\n"
     ]
    }
   ],
   "source": [
    "result = sc.excute_query(knows_query)\n",
    "for r in result:\n",
    "    print(r['target'])"
   ]
  }
 ],
 "metadata": {
  "kernelspec": {
   "display_name": "py39",
   "language": "python",
   "name": "python3"
  },
  "language_info": {
   "codemirror_mode": {
    "name": "ipython",
    "version": 3
   },
   "file_extension": ".py",
   "mimetype": "text/x-python",
   "name": "python",
   "nbconvert_exporter": "python",
   "pygments_lexer": "ipython3",
   "version": "3.9.16"
  },
  "orig_nbformat": 4
 },
 "nbformat": 4,
 "nbformat_minor": 2
}
