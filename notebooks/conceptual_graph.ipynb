{
 "cells": [
  {
   "cell_type": "code",
   "execution_count": 1,
   "metadata": {},
   "outputs": [],
   "source": [
    "import sys\n",
    "sys.path.append('../')\n",
    "from setting import config_read"
   ]
  },
  {
   "cell_type": "code",
   "execution_count": 2,
   "metadata": {},
   "outputs": [
    {
     "name": "stderr",
     "output_type": "stream",
     "text": [
      "* Owlready2 * Warning: optimized Cython parser module 'owlready2_optimized' is not available, defaulting to slower Python implementation\n"
     ]
    }
   ],
   "source": [
    "import pandas as pd\n",
    "from owlready2 import get_ontology\n",
    "from elasticsearch import Elasticsearch\n",
    "from mapping import *"
   ]
  },
  {
   "cell_type": "code",
   "execution_count": 3,
   "metadata": {},
   "outputs": [],
   "source": [
    "config = config_read('../')\n",
    "\n",
    "# Load owl file\n",
    "data_path = config['owl']['path']\n",
    "onto = get_ontology(data_path).load()\n",
    "\n",
    "# Elasticsearch\n",
    "server_ip = config['elasticsearch']['ip']\n",
    "index_name = config['elasticsearch']['name']\n",
    "es = Elasticsearch(server_ip)"
   ]
  },
  {
   "cell_type": "code",
   "execution_count": 4,
   "metadata": {},
   "outputs": [],
   "source": [
    "unit_path_df = pd.read_csv('../unit_path_for_mapping.csv')"
   ]
  },
  {
   "cell_type": "code",
   "execution_count": 48,
   "metadata": {},
   "outputs": [
    {
     "data": {
      "text/plain": [
       "[(data.용감한_형제, data.isComposedBy, mo.Track, data.hasGenre),\n",
       " (data.용감한_형제, data.isComposedBy, mo.Track, data.Genre)]"
      ]
     },
     "execution_count": 48,
     "metadata": {},
     "output_type": "execute_result"
    }
   ],
   "source": [
    "query_terms = ['용감한 형제', '작곡', '노래', '장르']\n",
    "# query_terms = ['소녀시대', '부른', '노래']\n",
    "# query_terms = ['지드래곤', '구성원', '그룹']\n",
    "# query_terms = ['빅뱅', '리더', '본명']\n",
    "\n",
    "query_patitions = query_patitioning(query_terms)\n",
    "p_star, score_list = partition_scoring(es, index_name, query_patitions)\n",
    "candidates_list = [onto.search(label=query) for query in p_star]\n",
    "resource_combinations = list(itertools.product(*candidates_list))\n",
    "resource_combinations"
   ]
  },
  {
   "cell_type": "code",
   "execution_count": 50,
   "metadata": {},
   "outputs": [
    {
     "name": "stdout",
     "output_type": "stream",
     "text": [
      "['vertex', 'edge', 'vertex', 'edge', 'vertex']\n",
      "[(data.용감한_형제, data.isComposedBy, mo.Track), (mo.Track, data.hasGenre, 'owl.Thing')]\n",
      "['vertex', 'edge', 'vertex', 'edge', 'vertex']\n",
      "[(data.용감한_형제, data.isComposedBy, mo.Track), (mo.Track, 'Any P', data.Genre)]\n"
     ]
    }
   ],
   "source": [
    "conceptual_graph = []\n",
    "\n",
    "for rc in resource_combinations:\n",
    "    conceptual_arc = []\n",
    "    state_list = []\n",
    "    rc = list(rc)\n",
    "\n",
    "    for r in rc:\n",
    "        if r in onto.object_properties():\n",
    "            state_list.append('edge') \n",
    "        elif r in onto.data_properties():\n",
    "            state_list.append('edge') \n",
    "        else:\n",
    "            state_list.append('vertex') \n",
    "\n",
    "    # 마지막이 edge일 때\n",
    "    if state_list[-1] == 'edge':\n",
    "        state_list.append('vertex')\n",
    "        rc.append('owl.Thing')\n",
    "\n",
    "    # vertex - vertex 일때\n",
    "    index_list = []\n",
    "    for i in range(len(state_list)-1):\n",
    "        if state_list[i] == 'vertex' and state_list[i+1] == 'vertex':\n",
    "            index_list.append(i+1)\n",
    "    \n",
    "    for i in index_list:\n",
    "        state_list.insert(i, 'edge')\n",
    "        rc.insert(i, 'Any P')\n",
    "    \n",
    "    for offset in range(0,len(rc)-2, 2):\n",
    "        conceptual_arc.append(tuple(rc[offset:offset+3]))\n",
    "    \n",
    "    print(state_list)\n",
    "    print(conceptual_arc)\n",
    "\n",
    "    conceptual_graph.append(conceptual_arc)\n",
    "\n",
    "# for conceptual_arc in conceptual_graph:\n",
    "#     print(conceptual_arc)"
   ]
  },
  {
   "cell_type": "code",
   "execution_count": 46,
   "metadata": {},
   "outputs": [],
   "source": [
    "conceptual_arc = {}\n",
    "df_list = []\n",
    "\n",
    "for conceptual_arc in conceptual_graph:\n",
    "    for s, p, o in conceptual_arc:\n",
    "        # print(unit_path_df[unit_path_df['S'] == s and unit_path_df['P'] == p and unit_path_df['O'] == o])\n",
    "        s_cond = unit_path_df['S'] == str(s)\n",
    "        p_cond = unit_path_df['P'] == str(p)\n",
    "        # o_cond = unit_path_df['range'] == str(o)\n",
    "\n",
    "        df = unit_path_df.loc[s_cond & p_cond, ['S', 'P', 'O', 'W']]\n",
    "    \n",
    "    df_list.append(df)"
   ]
  },
  {
   "cell_type": "code",
   "execution_count": 47,
   "metadata": {},
   "outputs": [
    {
     "data": {
      "text/html": [
       "<div>\n",
       "<style scoped>\n",
       "    .dataframe tbody tr th:only-of-type {\n",
       "        vertical-align: middle;\n",
       "    }\n",
       "\n",
       "    .dataframe tbody tr th {\n",
       "        vertical-align: top;\n",
       "    }\n",
       "\n",
       "    .dataframe thead th {\n",
       "        text-align: right;\n",
       "    }\n",
       "</style>\n",
       "<table border=\"1\" class=\"dataframe\">\n",
       "  <thead>\n",
       "    <tr style=\"text-align: right;\">\n",
       "      <th></th>\n",
       "      <th>S</th>\n",
       "      <th>P</th>\n",
       "      <th>O</th>\n",
       "      <th>W</th>\n",
       "    </tr>\n",
       "  </thead>\n",
       "  <tbody>\n",
       "    <tr>\n",
       "      <th>1001</th>\n",
       "      <td>data.빅뱅</td>\n",
       "      <td>data.hasLeader</td>\n",
       "      <td>data.지드래곤</td>\n",
       "      <td>0.75</td>\n",
       "    </tr>\n",
       "  </tbody>\n",
       "</table>\n",
       "</div>"
      ],
      "text/plain": [
       "            S               P          O     W\n",
       "1001  data.빅뱅  data.hasLeader  data.지드래곤  0.75"
      ]
     },
     "execution_count": 47,
     "metadata": {},
     "output_type": "execute_result"
    }
   ],
   "source": [
    "pd.concat(df_list)"
   ]
  }
 ],
 "metadata": {
  "kernelspec": {
   "display_name": "py39",
   "language": "python",
   "name": "python3"
  },
  "language_info": {
   "codemirror_mode": {
    "name": "ipython",
    "version": 3
   },
   "file_extension": ".py",
   "mimetype": "text/x-python",
   "name": "python",
   "nbconvert_exporter": "python",
   "pygments_lexer": "ipython3",
   "version": "3.9.16"
  },
  "orig_nbformat": 4
 },
 "nbformat": 4,
 "nbformat_minor": 2
}
