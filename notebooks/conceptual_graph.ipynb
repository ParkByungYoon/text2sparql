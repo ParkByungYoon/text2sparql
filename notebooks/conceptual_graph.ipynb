{
 "cells": [
  {
   "cell_type": "code",
   "execution_count": 1,
   "metadata": {},
   "outputs": [],
   "source": [
    "import sys\n",
    "sys.path.append('../')\n",
    "from setting import config_read"
   ]
  },
  {
   "cell_type": "code",
   "execution_count": 2,
   "metadata": {},
   "outputs": [
    {
     "name": "stderr",
     "output_type": "stream",
     "text": [
      "* Owlready2 * Warning: optimized Cython parser module 'owlready2_optimized' is not available, defaulting to slower Python implementation\n",
      "\n",
      "Warning: SQLite3 version 3.40.0 and 3.41.2 have huge performance regressions; please install version 3.41.1 or 3.42!\n",
      "\n"
     ]
    }
   ],
   "source": [
    "import pandas as pd\n",
    "import owlready2\n",
    "from elasticsearch import Elasticsearch\n",
    "from mapping import *\n",
    "from path import *\n",
    "from konlpy.tag import Okt"
   ]
  },
  {
   "cell_type": "code",
   "execution_count": 3,
   "metadata": {},
   "outputs": [],
   "source": [
    "config = config_read('../')\n",
    "\n",
    "# Load owl file\n",
    "data_path = config['owl']['path']\n",
    "onto = owlready2.get_ontology(data_path).load()\n",
    "\n",
    "# Elasticsearch\n",
    "server_ip = config['elasticsearch']['ip']\n",
    "index_name = config['elasticsearch']['name']\n",
    "es = Elasticsearch(server_ip)\n",
    "\n",
    "# Load unit path data\n",
    "unit_path = pd.read_csv('../unit_path.csv')\n",
    "G = generate_graph(unit_path)"
   ]
  },
  {
   "cell_type": "code",
   "execution_count": 4,
   "metadata": {},
   "outputs": [],
   "source": [
    "# okt = Okt()\n",
    "\n",
    "# query = input(\"Question: \") # 용감한 형제가 작곡한 노래의 장르는?\n",
    "# query_pos = okt.pos(query, norm=True)\n",
    "\n",
    "# query_terms = [q[0] for q in query_pos if q[1] not in [\"Josa\", \"Punctuation\"]]"
   ]
  },
  {
   "cell_type": "code",
   "execution_count": 5,
   "metadata": {},
   "outputs": [],
   "source": [
    "query_terms =['용감한', '형제', '작곡', '노래', '장르']"
   ]
  },
  {
   "cell_type": "code",
   "execution_count": 6,
   "metadata": {},
   "outputs": [
    {
     "data": {
      "text/plain": [
       "[['용감한 형제 작곡 노래 장르'],\n",
       " ['용감한', '형제 작곡 노래 장르'],\n",
       " ['용감한 형제', '작곡 노래 장르'],\n",
       " ['용감한 형제 작곡', '노래 장르'],\n",
       " ['용감한 형제 작곡 노래', '장르'],\n",
       " ['용감한', '형제', '작곡 노래 장르'],\n",
       " ['용감한', '형제 작곡', '노래 장르'],\n",
       " ['용감한', '형제 작곡 노래', '장르'],\n",
       " ['용감한 형제', '작곡', '노래 장르'],\n",
       " ['용감한 형제', '작곡 노래', '장르'],\n",
       " ['용감한 형제 작곡', '노래', '장르'],\n",
       " ['용감한', '형제', '작곡', '노래 장르'],\n",
       " ['용감한', '형제', '작곡 노래', '장르'],\n",
       " ['용감한', '형제 작곡', '노래', '장르'],\n",
       " ['용감한 형제', '작곡', '노래', '장르'],\n",
       " ['용감한', '형제', '작곡', '노래', '장르']]"
      ]
     },
     "execution_count": 6,
     "metadata": {},
     "output_type": "execute_result"
    }
   ],
   "source": [
    "query_patitions = query_patitioning(query_terms)\n",
    "query_patitions"
   ]
  },
  {
   "cell_type": "code",
   "execution_count": 7,
   "metadata": {},
   "outputs": [
    {
     "data": {
      "text/plain": [
       "['용감한 형제', '작곡', '노래', '장르']"
      ]
     },
     "execution_count": 7,
     "metadata": {},
     "output_type": "execute_result"
    }
   ],
   "source": [
    "p_star, score_list = partition_scoring(es, index_name, query_patitions)\n",
    "p_star"
   ]
  },
  {
   "cell_type": "code",
   "execution_count": 8,
   "metadata": {},
   "outputs": [
    {
     "data": {
      "text/plain": [
       "[(SKMO_v2.4_0223.용감한_형제,\n",
       "  SKMO_v2.4_0223.isComposedBy,\n",
       "  mo.Track,\n",
       "  SKMO_v2.4_0223.hasGenre),\n",
       " (SKMO_v2.4_0223.용감한_형제,\n",
       "  SKMO_v2.4_0223.isComposedBy,\n",
       "  mo.Track,\n",
       "  SKMO_v2.4_0223.Genre)]"
      ]
     },
     "execution_count": 8,
     "metadata": {},
     "output_type": "execute_result"
    }
   ],
   "source": [
    "candidates_list = [onto.search(label=query) for query in p_star]\n",
    "resource_combinations = list(itertools.product(*candidates_list))\n",
    "resource_combinations"
   ]
  },
  {
   "cell_type": "code",
   "execution_count": 9,
   "metadata": {},
   "outputs": [
    {
     "name": "stdout",
     "output_type": "stream",
     "text": [
      "[(SKMO_v2.4_0223.용감한_형제, SKMO_v2.4_0223.isComposedBy, mo.Track), (mo.Track, SKMO_v2.4_0223.hasGenre, owl.Thing)]\n",
      "[(SKMO_v2.4_0223.용감한_형제, SKMO_v2.4_0223.isComposedBy, mo.Track), (mo.Track, 'Any P', SKMO_v2.4_0223.Genre)]\n"
     ]
    }
   ],
   "source": [
    "conceptual_graph = []\n",
    "\n",
    "for rc in resource_combinations:\n",
    "    conceptual_arc = []\n",
    "    state_list = []\n",
    "    rc = list(rc)\n",
    "\n",
    "    for r in rc:\n",
    "        if r in onto.object_properties():\n",
    "            state_list.append('edge') \n",
    "        elif r in onto.data_properties():\n",
    "            state_list.append('edge') \n",
    "        else:\n",
    "            state_list.append('vertex') \n",
    "\n",
    "    # 마지막이 edge일 때\n",
    "    if state_list[-1] == 'edge':\n",
    "        state_list.append('vertex')\n",
    "        rc.append(owlready2.Thing)\n",
    "\n",
    "    # vertex - vertex 일때\n",
    "    index_list = []\n",
    "    for i in range(len(state_list)-1):\n",
    "        if state_list[i] == 'vertex' and state_list[i+1] == 'vertex':\n",
    "            index_list.append(i+1)\n",
    "    \n",
    "    for i in index_list:\n",
    "        state_list.insert(i, 'edge')\n",
    "        rc.insert(i, 'Any P')\n",
    "    \n",
    "    for offset in range(0,len(rc)-2, 2):\n",
    "        conceptual_arc.append(tuple(rc[offset:offset+3]))\n",
    "    \n",
    "    print(conceptual_arc)\n",
    "\n",
    "    conceptual_graph.append(conceptual_arc)"
   ]
  },
  {
   "cell_type": "code",
   "execution_count": 10,
   "metadata": {},
   "outputs": [],
   "source": [
    "candidates_dict = {}\n",
    "\n",
    "for cg in conceptual_graph:\n",
    "    \n",
    "    for ca in cg:\n",
    "        if ca in candidates_dict: \n",
    "            continue\n",
    "        else:\n",
    "            candidates_dict[ca] = []\n",
    "\n",
    "        d,p,r = ca\n",
    "\n",
    "        if d and not G.has_node(str(d)):\n",
    "            d = d.is_a\n",
    "        else: d = [d]\n",
    "\n",
    "        if r and not G.has_node(str(r)):\n",
    "            r = r.is_a\n",
    "        else: r = [r]\n",
    "\n",
    "        p = [p]\n",
    "\n",
    "        for u,e,v in itertools.product(d,p,r):\n",
    "            u = str(u)\n",
    "            e = str(e)\n",
    "            v = str(v)\n",
    "\n",
    "            if e == 'Any P': e=None \n",
    "            if v == 'owl.Thing': v=None\n",
    "\n",
    "            result = find_shortest_path(G, u, v, e, n_triple=3) \n",
    "            if len(result) == 0: continue\n",
    "            candidates_dict[ca].append(result[::2])"
   ]
  },
  {
   "cell_type": "code",
   "execution_count": 12,
   "metadata": {},
   "outputs": [
    {
     "name": "stdout",
     "output_type": "stream",
     "text": [
      "(SKMO_v2.4_0223.용감한_형제, SKMO_v2.4_0223.isComposedBy, mo.Track)의 shortest path\n",
      "\n",
      "(mo.Track, SKMO_v2.4_0223.hasGenre, owl.Thing)의 shortest path\n",
      "['mo.Track', 'SKMO_v2.4_0223.Genre']\n",
      "\n",
      "(mo.Track, 'Any P', SKMO_v2.4_0223.Genre)의 shortest path\n",
      "['mo.Track', 'SKMO_v2.4_0223.Genre']\n",
      "\n"
     ]
    }
   ],
   "source": [
    "for k,v in candidates_dict.items():\n",
    "    print(f'{k}의 shortest path')\n",
    "    for elem in v:\n",
    "        print(elem)\n",
    "    print()"
   ]
  }
 ],
 "metadata": {
  "kernelspec": {
   "display_name": "py39",
   "language": "python",
   "name": "python3"
  },
  "language_info": {
   "codemirror_mode": {
    "name": "ipython",
    "version": 3
   },
   "file_extension": ".py",
   "mimetype": "text/x-python",
   "name": "python",
   "nbconvert_exporter": "python",
   "pygments_lexer": "ipython3",
   "version": "3.9.16"
  },
  "orig_nbformat": 4
 },
 "nbformat": 4,
 "nbformat_minor": 2
}
