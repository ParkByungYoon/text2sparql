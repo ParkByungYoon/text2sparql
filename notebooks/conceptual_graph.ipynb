{
 "cells": [
  {
   "cell_type": "code",
   "execution_count": 1,
   "metadata": {},
   "outputs": [],
   "source": [
    "import sys\n",
    "sys.path.append('../')\n",
    "from setting import config_read"
   ]
  },
  {
   "cell_type": "code",
   "execution_count": 2,
   "metadata": {},
   "outputs": [
    {
     "name": "stderr",
     "output_type": "stream",
     "text": [
      "* Owlready2 * Warning: optimized Cython parser module 'owlready2_optimized' is not available, defaulting to slower Python implementation\n",
      "\n",
      "Warning: SQLite3 version 3.40.0 and 3.41.2 have huge performance regressions; please install version 3.41.1 or 3.42!\n",
      "\n"
     ]
    }
   ],
   "source": [
    "import pandas as pd\n",
    "from owlready2 import *\n",
    "from elasticsearch import Elasticsearch\n",
    "from mapping import *"
   ]
  },
  {
   "cell_type": "code",
   "execution_count": 3,
   "metadata": {},
   "outputs": [],
   "source": [
    "config = config_read('../')\n",
    "\n",
    "# Load owl file\n",
    "data_path = config['owl']['path']\n",
    "onto = get_ontology(data_path).load()\n",
    "\n",
    "# Elasticsearch\n",
    "server_ip = config['elasticsearch']['ip']\n",
    "index_name = config['elasticsearch']['name']\n",
    "es = Elasticsearch(server_ip)"
   ]
  },
  {
   "cell_type": "code",
   "execution_count": 4,
   "metadata": {},
   "outputs": [],
   "source": [
    "unit_path_df = pd.read_csv('../unit_path_for_mapping.csv')"
   ]
  },
  {
   "cell_type": "code",
   "execution_count": 5,
   "metadata": {},
   "outputs": [
    {
     "data": {
      "text/plain": [
       "[(SKMO_v2.4_0223.This_Love_G_dragon_Solo,\n",
       "  SKMO_v2.4_0223.isSungBy,\n",
       "  SKMO_v2.4_0223.지드래곤,\n",
       "  mo.member_of,\n",
       "  mo.MusicGroup),\n",
       " (SKMO_v2.4_0223.This_Love_G_dragon_Solo,\n",
       "  SKMO_v2.4_0223.isSungBy,\n",
       "  SKMO_v2.4_0223.지드래곤,\n",
       "  schema.affiliation,\n",
       "  mo.MusicGroup)]"
      ]
     },
     "execution_count": 5,
     "metadata": {},
     "output_type": "execute_result"
    }
   ],
   "source": [
    "query_terms = ['This Love', '부른', '지드래곤', '소속', '음악 그룹']\n",
    "# query_terms = ['노래', '부른', '가수']\n",
    "\n",
    "query_patitions = query_patitioning(query_terms)\n",
    "p_star, score_list = partition_scoring(es, index_name, query_patitions)\n",
    "candidates_list = [onto.search(label=query) for query in p_star]\n",
    "resource_combinations = list(itertools.product(*candidates_list))\n",
    "resource_combinations"
   ]
  },
  {
   "cell_type": "code",
   "execution_count": 6,
   "metadata": {},
   "outputs": [
    {
     "name": "stdout",
     "output_type": "stream",
     "text": [
      "[(SKMO_v2.4_0223.This_Love_G_dragon_Solo, SKMO_v2.4_0223.isSungBy, SKMO_v2.4_0223.지드래곤), (SKMO_v2.4_0223.지드래곤, mo.member_of, mo.MusicGroup)]\n",
      "[(SKMO_v2.4_0223.This_Love_G_dragon_Solo, SKMO_v2.4_0223.isSungBy, SKMO_v2.4_0223.지드래곤), (SKMO_v2.4_0223.지드래곤, schema.affiliation, mo.MusicGroup)]\n"
     ]
    }
   ],
   "source": [
    "conceptual_graph = []\n",
    "\n",
    "for rc in resource_combinations:\n",
    "    conceptual_arc = []\n",
    "    state_list = []\n",
    "    rc = list(rc)\n",
    "\n",
    "    for r in rc:\n",
    "        if r in onto.object_properties():\n",
    "            state_list.append('edge') \n",
    "        elif r in onto.data_properties():\n",
    "            state_list.append('edge') \n",
    "        else:\n",
    "            state_list.append('vertex') \n",
    "\n",
    "    # 마지막이 edge일 때\n",
    "    if state_list[-1] == 'edge':\n",
    "        state_list.append('vertex')\n",
    "        rc.append('owl.Thing')\n",
    "\n",
    "    # vertex - vertex 일때\n",
    "    index_list = []\n",
    "    for i in range(len(state_list)-1):\n",
    "        if state_list[i] == 'vertex' and state_list[i+1] == 'vertex':\n",
    "            index_list.append(i+1)\n",
    "    \n",
    "    for i in index_list:\n",
    "        state_list.insert(i, 'edge')\n",
    "        rc.insert(i, 'Any P')\n",
    "    \n",
    "    for offset in range(0,len(rc)-2, 2):\n",
    "        conceptual_arc.append(tuple(rc[offset:offset+3]))\n",
    "    \n",
    "    print(conceptual_arc)\n",
    "\n",
    "    conceptual_graph.append(conceptual_arc)"
   ]
  },
  {
   "cell_type": "code",
   "execution_count": 7,
   "metadata": {},
   "outputs": [],
   "source": [
    "conceptual_arc = {}\n",
    "df_list = []\n",
    "\n",
    "for conceptual_arc in conceptual_graph[:1]:\n",
    "    for s, p, o in conceptual_arc:\n",
    "        s_cond = unit_path_df['S'] == str(s) \n",
    "        d_cond = unit_path_df['domain'] == str(s)\n",
    "\n",
    "        p_cond = unit_path_df['P'] == str(p) \n",
    "\n",
    "        o_cond = unit_path_df['O'] == str(o) \n",
    "        r_cond = unit_path_df['range'] == str(o)\n",
    "\n",
    "        df = unit_path_df.loc[(s_cond|d_cond) & p_cond & (o_cond|r_cond)]\n",
    "        df_list.append(df)"
   ]
  },
  {
   "cell_type": "code",
   "execution_count": 8,
   "metadata": {},
   "outputs": [
    {
     "data": {
      "text/html": [
       "<div>\n",
       "<style scoped>\n",
       "    .dataframe tbody tr th:only-of-type {\n",
       "        vertical-align: middle;\n",
       "    }\n",
       "\n",
       "    .dataframe tbody tr th {\n",
       "        vertical-align: top;\n",
       "    }\n",
       "\n",
       "    .dataframe thead th {\n",
       "        text-align: right;\n",
       "    }\n",
       "</style>\n",
       "<table border=\"1\" class=\"dataframe\">\n",
       "  <thead>\n",
       "    <tr style=\"text-align: right;\">\n",
       "      <th></th>\n",
       "      <th>S</th>\n",
       "      <th>P</th>\n",
       "      <th>O</th>\n",
       "      <th>domain</th>\n",
       "      <th>range</th>\n",
       "      <th>S_dpr</th>\n",
       "      <th>S_dr</th>\n",
       "      <th>W</th>\n",
       "    </tr>\n",
       "  </thead>\n",
       "  <tbody>\n",
       "    <tr>\n",
       "      <th>190</th>\n",
       "      <td>SKMO_v2.4_0223.This_Love_G_dragon_Solo</td>\n",
       "      <td>SKMO_v2.4_0223.isSungBy</td>\n",
       "      <td>SKMO_v2.4_0223.지드래곤</td>\n",
       "      <td>mo.Track</td>\n",
       "      <td>SKMO_v2.4_0223.MusicArtist</td>\n",
       "      <td>48</td>\n",
       "      <td>124</td>\n",
       "      <td>0.387097</td>\n",
       "    </tr>\n",
       "    <tr>\n",
       "      <th>328</th>\n",
       "      <td>SKMO_v2.4_0223.This_Love_G_dragon_Solo</td>\n",
       "      <td>SKMO_v2.4_0223.isSungBy</td>\n",
       "      <td>SKMO_v2.4_0223.지드래곤</td>\n",
       "      <td>mo.Track</td>\n",
       "      <td>foaf.Person</td>\n",
       "      <td>31</td>\n",
       "      <td>145</td>\n",
       "      <td>0.213793</td>\n",
       "    </tr>\n",
       "    <tr>\n",
       "      <th>507</th>\n",
       "      <td>SKMO_v2.4_0223.지드래곤</td>\n",
       "      <td>mo.member_of</td>\n",
       "      <td>SKMO_v2.4_0223.빅뱅</td>\n",
       "      <td>SKMO_v2.4_0223.MusicArtist</td>\n",
       "      <td>mo.MusicGroup</td>\n",
       "      <td>23</td>\n",
       "      <td>23</td>\n",
       "      <td>1.000000</td>\n",
       "    </tr>\n",
       "    <tr>\n",
       "      <th>545</th>\n",
       "      <td>SKMO_v2.4_0223.지드래곤</td>\n",
       "      <td>mo.member_of</td>\n",
       "      <td>SKMO_v2.4_0223.빅뱅</td>\n",
       "      <td>foaf.Person</td>\n",
       "      <td>mo.MusicGroup</td>\n",
       "      <td>40</td>\n",
       "      <td>40</td>\n",
       "      <td>1.000000</td>\n",
       "    </tr>\n",
       "  </tbody>\n",
       "</table>\n",
       "</div>"
      ],
      "text/plain": [
       "                                          S                        P  \\\n",
       "190  SKMO_v2.4_0223.This_Love_G_dragon_Solo  SKMO_v2.4_0223.isSungBy   \n",
       "328  SKMO_v2.4_0223.This_Love_G_dragon_Solo  SKMO_v2.4_0223.isSungBy   \n",
       "507                     SKMO_v2.4_0223.지드래곤             mo.member_of   \n",
       "545                     SKMO_v2.4_0223.지드래곤             mo.member_of   \n",
       "\n",
       "                       O                      domain  \\\n",
       "190  SKMO_v2.4_0223.지드래곤                    mo.Track   \n",
       "328  SKMO_v2.4_0223.지드래곤                    mo.Track   \n",
       "507    SKMO_v2.4_0223.빅뱅  SKMO_v2.4_0223.MusicArtist   \n",
       "545    SKMO_v2.4_0223.빅뱅                 foaf.Person   \n",
       "\n",
       "                          range  S_dpr  S_dr         W  \n",
       "190  SKMO_v2.4_0223.MusicArtist     48   124  0.387097  \n",
       "328                 foaf.Person     31   145  0.213793  \n",
       "507               mo.MusicGroup     23    23  1.000000  \n",
       "545               mo.MusicGroup     40    40  1.000000  "
      ]
     },
     "execution_count": 8,
     "metadata": {},
     "output_type": "execute_result"
    }
   ],
   "source": [
    "pd.concat(df_list)"
   ]
  }
 ],
 "metadata": {
  "kernelspec": {
   "display_name": "py39",
   "language": "python",
   "name": "python3"
  },
  "language_info": {
   "codemirror_mode": {
    "name": "ipython",
    "version": 3
   },
   "file_extension": ".py",
   "mimetype": "text/x-python",
   "name": "python",
   "nbconvert_exporter": "python",
   "pygments_lexer": "ipython3",
   "version": "3.9.16"
  },
  "orig_nbformat": 4
 },
 "nbformat": 4,
 "nbformat_minor": 2
}
