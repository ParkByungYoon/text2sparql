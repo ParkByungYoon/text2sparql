{
 "cells": [
  {
   "cell_type": "code",
   "execution_count": 1,
   "metadata": {},
   "outputs": [],
   "source": [
    "import sys\n",
    "sys.path.append('../')\n",
    "from setting import config_read"
   ]
  },
  {
   "cell_type": "code",
   "execution_count": 2,
   "metadata": {},
   "outputs": [
    {
     "name": "stderr",
     "output_type": "stream",
     "text": [
      "* Owlready2 * Warning: optimized Cython parser module 'owlready2_optimized' is not available, defaulting to slower Python implementation\n",
      "\n",
      "Warning: SQLite3 version 3.40.0 and 3.41.2 have huge performance regressions; please install version 3.41.1 or 3.42!\n",
      "\n"
     ]
    }
   ],
   "source": [
    "import pandas as pd\n",
    "from owlready2 import *\n",
    "from elasticsearch import Elasticsearch\n",
    "from mapping import *\n",
    "from konlpy.tag import Okt"
   ]
  },
  {
   "cell_type": "code",
   "execution_count": 3,
   "metadata": {},
   "outputs": [],
   "source": [
    "config = config_read('../')\n",
    "\n",
    "# Load owl file\n",
    "data_path = config['owl']['path']\n",
    "onto = get_ontology(data_path).load()\n",
    "\n",
    "# Elasticsearch\n",
    "server_ip = config['elasticsearch']['ip']\n",
    "index_name = config['elasticsearch']['name']\n",
    "es = Elasticsearch(server_ip)"
   ]
  },
  {
   "cell_type": "code",
   "execution_count": 4,
   "metadata": {},
   "outputs": [],
   "source": [
    "unit_path_df = pd.read_csv('../unit_path_for_mapping.csv')"
   ]
  },
  {
   "cell_type": "code",
   "execution_count": null,
   "metadata": {},
   "outputs": [],
   "source": [
    "okt = Okt()\n",
    "\n",
    "query = input(\"Question: \") # 용감한 형제가 작곡한 노래의 장르는?\n",
    "query_pos = okt.pos(query, norm=True)\n",
    "\n",
    "query_terms = [q[0] for q in query_pos if q[1] not in [\"Josa\", \"Punctuation\"]]"
   ]
  },
  {
   "cell_type": "code",
   "execution_count": 18,
   "metadata": {},
   "outputs": [
    {
     "data": {
      "text/plain": [
       "[(SKMO_v2.4_0223.뱅뱅뱅, SKMO_v2.4_0223.isComposedBy, foaf.Person),\n",
       " (SKMO_v2.4_0223.뱅뱅뱅_inst, SKMO_v2.4_0223.isComposedBy, foaf.Person),\n",
       " (SKMO_v2.4_0223.뱅뱅뱅_황치열, SKMO_v2.4_0223.isComposedBy, foaf.Person)]"
      ]
     },
     "execution_count": 18,
     "metadata": {},
     "output_type": "execute_result"
    }
   ],
   "source": [
    "query_patitions = query_patitioning(query_terms)\n",
    "p_star, score_list = partition_scoring(es, index_name, query_patitions)\n",
    "candidates_list = [onto.search(label=query) for query in p_star]\n",
    "resource_combinations = list(itertools.product(*candidates_list))\n",
    "resource_combinations"
   ]
  },
  {
   "cell_type": "code",
   "execution_count": 19,
   "metadata": {},
   "outputs": [
    {
     "data": {
      "text/plain": [
       "[SKMO_v2.4_0223.MusicArtist, foaf.Person]"
      ]
     },
     "execution_count": 19,
     "metadata": {},
     "output_type": "execute_result"
    }
   ],
   "source": [
    "onto.지드래곤.is_a"
   ]
  },
  {
   "cell_type": "code",
   "execution_count": 20,
   "metadata": {},
   "outputs": [
    {
     "name": "stdout",
     "output_type": "stream",
     "text": [
      "[(SKMO_v2.4_0223.뱅뱅뱅, SKMO_v2.4_0223.isComposedBy, foaf.Person)]\n",
      "[(SKMO_v2.4_0223.뱅뱅뱅_inst, SKMO_v2.4_0223.isComposedBy, foaf.Person)]\n",
      "[(SKMO_v2.4_0223.뱅뱅뱅_황치열, SKMO_v2.4_0223.isComposedBy, foaf.Person)]\n"
     ]
    }
   ],
   "source": [
    "conceptual_graph = []\n",
    "\n",
    "for rc in resource_combinations:\n",
    "    conceptual_arc = []\n",
    "    state_list = []\n",
    "    rc = list(rc)\n",
    "\n",
    "    for r in rc:\n",
    "        if r in onto.object_properties():\n",
    "            state_list.append('edge') \n",
    "        elif r in onto.data_properties():\n",
    "            state_list.append('edge') \n",
    "        else:\n",
    "            state_list.append('vertex') \n",
    "\n",
    "    # 마지막이 edge일 때\n",
    "    if state_list[-1] == 'edge':\n",
    "        state_list.append('vertex')\n",
    "        rc.append('owl.Thing')\n",
    "\n",
    "    # vertex - vertex 일때\n",
    "    index_list = []\n",
    "    for i in range(len(state_list)-1):\n",
    "        if state_list[i] == 'vertex' and state_list[i+1] == 'vertex':\n",
    "            index_list.append(i+1)\n",
    "    \n",
    "    for i in index_list:\n",
    "        state_list.insert(i, 'edge')\n",
    "        rc.insert(i, 'Any P')\n",
    "    \n",
    "    for offset in range(0,len(rc)-2, 2):\n",
    "        conceptual_arc.append(tuple(rc[offset:offset+3]))\n",
    "    \n",
    "    print(conceptual_arc)\n",
    "\n",
    "    conceptual_graph.append(conceptual_arc)"
   ]
  },
  {
   "cell_type": "code",
   "execution_count": 21,
   "metadata": {},
   "outputs": [],
   "source": [
    "conceptual_arc = {}\n",
    "df_list = []\n",
    "\n",
    "for conceptual_arc in conceptual_graph[:1]:\n",
    "    for s, p, o in conceptual_arc:\n",
    "        s_cond = unit_path_df['S'] == str(s) \n",
    "        d_cond = unit_path_df['domain'] == str(s)\n",
    "\n",
    "        p_cond = unit_path_df['P'] == str(p) \n",
    "\n",
    "        o_cond = unit_path_df['O'] == str(o) \n",
    "        r_cond = unit_path_df['range'] == str(o)\n",
    "\n",
    "        df = unit_path_df.loc[(s_cond|d_cond) & p_cond & (o_cond|r_cond)]\n",
    "        df_list.append(df)"
   ]
  },
  {
   "cell_type": "code",
   "execution_count": 22,
   "metadata": {},
   "outputs": [
    {
     "data": {
      "text/html": [
       "<div>\n",
       "<style scoped>\n",
       "    .dataframe tbody tr th:only-of-type {\n",
       "        vertical-align: middle;\n",
       "    }\n",
       "\n",
       "    .dataframe tbody tr th {\n",
       "        vertical-align: top;\n",
       "    }\n",
       "\n",
       "    .dataframe thead th {\n",
       "        text-align: right;\n",
       "    }\n",
       "</style>\n",
       "<table border=\"1\" class=\"dataframe\">\n",
       "  <thead>\n",
       "    <tr style=\"text-align: right;\">\n",
       "      <th></th>\n",
       "      <th>S</th>\n",
       "      <th>P</th>\n",
       "      <th>O</th>\n",
       "      <th>domain</th>\n",
       "      <th>range</th>\n",
       "      <th>S_dpr</th>\n",
       "      <th>S_dr</th>\n",
       "      <th>W</th>\n",
       "    </tr>\n",
       "  </thead>\n",
       "  <tbody>\n",
       "    <tr>\n",
       "      <th>364</th>\n",
       "      <td>SKMO_v2.4_0223.뱅뱅뱅</td>\n",
       "      <td>SKMO_v2.4_0223.isComposedBy</td>\n",
       "      <td>SKMO_v2.4_0223.지드래곤</td>\n",
       "      <td>mo.Track</td>\n",
       "      <td>foaf.Person</td>\n",
       "      <td>36</td>\n",
       "      <td>145</td>\n",
       "      <td>0.248276</td>\n",
       "    </tr>\n",
       "    <tr>\n",
       "      <th>382</th>\n",
       "      <td>SKMO_v2.4_0223.뱅뱅뱅</td>\n",
       "      <td>SKMO_v2.4_0223.isComposedBy</td>\n",
       "      <td>SKMO_v2.4_0223.Teddy</td>\n",
       "      <td>mo.Track</td>\n",
       "      <td>foaf.Person</td>\n",
       "      <td>36</td>\n",
       "      <td>145</td>\n",
       "      <td>0.248276</td>\n",
       "    </tr>\n",
       "  </tbody>\n",
       "</table>\n",
       "</div>"
      ],
      "text/plain": [
       "                      S                            P                     O  \\\n",
       "364  SKMO_v2.4_0223.뱅뱅뱅  SKMO_v2.4_0223.isComposedBy   SKMO_v2.4_0223.지드래곤   \n",
       "382  SKMO_v2.4_0223.뱅뱅뱅  SKMO_v2.4_0223.isComposedBy  SKMO_v2.4_0223.Teddy   \n",
       "\n",
       "       domain        range  S_dpr  S_dr         W  \n",
       "364  mo.Track  foaf.Person     36   145  0.248276  \n",
       "382  mo.Track  foaf.Person     36   145  0.248276  "
      ]
     },
     "execution_count": 22,
     "metadata": {},
     "output_type": "execute_result"
    }
   ],
   "source": [
    "pd.concat(df_list)"
   ]
  }
 ],
 "metadata": {
  "kernelspec": {
   "display_name": "py39",
   "language": "python",
   "name": "python3"
  },
  "language_info": {
   "codemirror_mode": {
    "name": "ipython",
    "version": 3
   },
   "file_extension": ".py",
   "mimetype": "text/x-python",
   "name": "python",
   "nbconvert_exporter": "python",
   "pygments_lexer": "ipython3",
   "version": "3.9.16"
  },
  "orig_nbformat": 4
 },
 "nbformat": 4,
 "nbformat_minor": 2
}
