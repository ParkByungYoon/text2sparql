{
 "cells": [
  {
   "cell_type": "code",
   "execution_count": 10,
   "metadata": {},
   "outputs": [],
   "source": [
    "import sys\n",
    "sys.path.append('../')\n",
    "from setting import config_read"
   ]
  },
  {
   "cell_type": "code",
   "execution_count": 11,
   "metadata": {},
   "outputs": [],
   "source": [
    "import pandas as pd\n",
    "import owlready2\n",
    "from elasticsearch import Elasticsearch\n",
    "from mapping import *\n",
    "from graph import *\n",
    "from konlpy.tag import Okt"
   ]
  },
  {
   "cell_type": "code",
   "execution_count": 12,
   "metadata": {},
   "outputs": [],
   "source": [
    "config = config_read('../')\n",
    "\n",
    "# Load owl file\n",
    "data_path = config['owl']['path']\n",
    "onto = owlready2.get_ontology(data_path).load()\n",
    "\n",
    "# Elasticsearch\n",
    "server_ip = config['elasticsearch']['ip']\n",
    "index_name = config['elasticsearch']['name']\n",
    "es = Elasticsearch(server_ip)\n",
    "\n",
    "# Load unit path data\n",
    "unit_path = pd.read_csv('../unit_path.csv')\n",
    "G = base_graph_generation(unit_path)"
   ]
  },
  {
   "cell_type": "markdown",
   "metadata": {},
   "source": [
    "# 1. Preprocessing"
   ]
  },
  {
   "cell_type": "markdown",
   "metadata": {},
   "source": [
    "# 2-1. Query Partitioning"
   ]
  },
  {
   "cell_type": "code",
   "execution_count": 13,
   "metadata": {},
   "outputs": [
    {
     "data": {
      "text/plain": [
       "[['용감한 형제 작곡 노래 장르'],\n",
       " ['용감한', '형제 작곡 노래 장르'],\n",
       " ['용감한 형제', '작곡 노래 장르'],\n",
       " ['용감한 형제 작곡', '노래 장르'],\n",
       " ['용감한 형제 작곡 노래', '장르'],\n",
       " ['용감한', '형제', '작곡 노래 장르'],\n",
       " ['용감한', '형제 작곡', '노래 장르'],\n",
       " ['용감한', '형제 작곡 노래', '장르'],\n",
       " ['용감한 형제', '작곡', '노래 장르'],\n",
       " ['용감한 형제', '작곡 노래', '장르'],\n",
       " ['용감한 형제 작곡', '노래', '장르'],\n",
       " ['용감한', '형제', '작곡', '노래 장르'],\n",
       " ['용감한', '형제', '작곡 노래', '장르'],\n",
       " ['용감한', '형제 작곡', '노래', '장르'],\n",
       " ['용감한 형제', '작곡', '노래', '장르'],\n",
       " ['용감한', '형제', '작곡', '노래', '장르']]"
      ]
     },
     "execution_count": 13,
     "metadata": {},
     "output_type": "execute_result"
    }
   ],
   "source": [
    "okt = Okt()\n",
    "\n",
    "# This Love 부른 음악가의 소속 음악 그룹은?\n",
    "# 용감한 형제가 작곡한 노래의 장르는?\n",
    "query = input(\"Question: \")\n",
    "query_pos = okt.pos(query, norm=True)\n",
    "\n",
    "query_terms = [q[0] for q in query_pos if q[1] not in [\"Josa\", \"Punctuation\"]]\n",
    "\n",
    "query_patitions = query_patitioning(query_terms)\n",
    "query_patitions"
   ]
  },
  {
   "cell_type": "markdown",
   "metadata": {},
   "source": [
    "# 2-2. Partition Scoring"
   ]
  },
  {
   "cell_type": "code",
   "execution_count": 14,
   "metadata": {},
   "outputs": [
    {
     "data": {
      "text/plain": [
       "['용감한 형제', '작곡', '노래', '장르']"
      ]
     },
     "execution_count": 14,
     "metadata": {},
     "output_type": "execute_result"
    }
   ],
   "source": [
    "p_star, score_list = partition_scoring(es, index_name, query_patitions)\n",
    "p_star"
   ]
  },
  {
   "cell_type": "markdown",
   "metadata": {},
   "source": [
    "# 2-3. Generation of resource combination"
   ]
  },
  {
   "cell_type": "code",
   "execution_count": 15,
   "metadata": {},
   "outputs": [
    {
     "data": {
      "text/plain": [
       "[(SKMO_v2.4_0223.용감한_형제,\n",
       "  SKMO_v2.4_0223.isComposedBy,\n",
       "  mo.Track,\n",
       "  SKMO_v2.4_0223.hasGenre),\n",
       " (SKMO_v2.4_0223.용감한_형제,\n",
       "  SKMO_v2.4_0223.isComposedBy,\n",
       "  mo.Track,\n",
       "  SKMO_v2.4_0223.Genre)]"
      ]
     },
     "execution_count": 15,
     "metadata": {},
     "output_type": "execute_result"
    }
   ],
   "source": [
    "candidates_list = [onto.search(label=query) for query in p_star]\n",
    "resource_combinations = list(itertools.product(*candidates_list))\n",
    "resource_combinations"
   ]
  },
  {
   "cell_type": "markdown",
   "metadata": {},
   "source": [
    "# 3. Conceptual graph generation"
   ]
  },
  {
   "cell_type": "code",
   "execution_count": 16,
   "metadata": {},
   "outputs": [
    {
     "data": {
      "text/plain": [
       "[[(SKMO_v2.4_0223.용감한_형제, SKMO_v2.4_0223.isComposedBy, mo.Track),\n",
       "  (mo.Track, SKMO_v2.4_0223.hasGenre, None)],\n",
       " [(SKMO_v2.4_0223.용감한_형제, SKMO_v2.4_0223.isComposedBy, mo.Track),\n",
       "  (mo.Track, None, SKMO_v2.4_0223.Genre)]]"
      ]
     },
     "execution_count": 16,
     "metadata": {},
     "output_type": "execute_result"
    }
   ],
   "source": [
    "conceptual_graph = conceptual_graph_generation(onto, resource_combinations)\n",
    "conceptual_graph"
   ]
  },
  {
   "cell_type": "markdown",
   "metadata": {},
   "source": [
    "# 4. Query graph generation"
   ]
  },
  {
   "cell_type": "code",
   "execution_count": 20,
   "metadata": {},
   "outputs": [
    {
     "name": "stdout",
     "output_type": "stream",
     "text": [
      "(SKMO_v2.4_0223.용감한_형제, SKMO_v2.4_0223.isComposedBy, mo.Track)의 shortest path\n",
      ": 일치하는 shortest path가 없습니다.\n",
      "\n",
      "(mo.Track, SKMO_v2.4_0223.hasGenre, None)의 shortest path\n",
      ": [('mo.Track', 'SKMO_v2.4_0223.hasGenre', 'SKMO_v2.4_0223.Genre')]\n",
      "\n",
      "(mo.Track, None, SKMO_v2.4_0223.Genre)의 shortest path\n",
      ": [('mo.Track', 'SKMO_v2.4_0223.hasGenre', 'SKMO_v2.4_0223.Genre')]\n",
      "\n"
     ]
    }
   ],
   "source": [
    "query_graph = query_graph_generation(G, conceptual_graph)\n",
    "\n",
    "for k,v in query_graph.items():\n",
    "    if v == []:\n",
    "        print(f'{k}의 shortest path')\n",
    "        print(': 일치하는 shortest path가 없습니다.')\n",
    "        print() \n",
    "    else:\n",
    "        print(f'{k}의 shortest path')\n",
    "        for elem in v:\n",
    "            print(f': {elem}')\n",
    "        print()"
   ]
  }
 ],
 "metadata": {
  "kernelspec": {
   "display_name": "py39",
   "language": "python",
   "name": "python3"
  },
  "language_info": {
   "codemirror_mode": {
    "name": "ipython",
    "version": 3
   },
   "file_extension": ".py",
   "mimetype": "text/x-python",
   "name": "python",
   "nbconvert_exporter": "python",
   "pygments_lexer": "ipython3",
   "version": "3.9.16"
  },
  "orig_nbformat": 4
 },
 "nbformat": 4,
 "nbformat_minor": 2
}
