{
 "cells": [
  {
   "cell_type": "code",
   "execution_count": 1,
   "metadata": {},
   "outputs": [],
   "source": [
    "import sys\n",
    "sys.path.append('../')\n",
    "from setting import config_read"
   ]
  },
  {
   "cell_type": "code",
   "execution_count": 2,
   "metadata": {},
   "outputs": [
    {
     "name": "stderr",
     "output_type": "stream",
     "text": [
      "* Owlready2 * Warning: optimized Cython parser module 'owlready2_optimized' is not available, defaulting to slower Python implementation\n",
      "\n",
      "Warning: SQLite3 version 3.40.0 and 3.41.2 have huge performance regressions; please install version 3.41.1 or 3.42!\n",
      "\n"
     ]
    }
   ],
   "source": [
    "import pandas as pd\n",
    "import owlready2\n",
    "from map import ResourceMapper\n",
    "from elasticsearch import Elasticsearch"
   ]
  },
  {
   "cell_type": "code",
   "execution_count": 3,
   "metadata": {},
   "outputs": [],
   "source": [
    "config = config_read('../')\n",
    "\n",
    "# Elasticsearch\n",
    "server_ip = config['elasticsearch']['ip']\n",
    "index_name = config['elasticsearch']['name']\n",
    "es = Elasticsearch(server_ip)\n",
    "rm = ResourceMapper(config)"
   ]
  },
  {
   "cell_type": "code",
   "execution_count": 4,
   "metadata": {},
   "outputs": [],
   "source": [
    "user_input = '용감한 형제가 작곡한 노래의 장르는?'\n",
    "resource_combinations = rm.process(user_input)"
   ]
  },
  {
   "cell_type": "code",
   "execution_count": 5,
   "metadata": {},
   "outputs": [],
   "source": [
    "def get_type(resource):\n",
    "    search_query = {\"query\":{\"term\":{\"URI.keyword\": resource}}}\n",
    "    result = es.search(index=index_name, body=search_query)\n",
    "    return result['hits']['hits'][0]['_source']['Type']"
   ]
  },
  {
   "cell_type": "code",
   "execution_count": 6,
   "metadata": {},
   "outputs": [
    {
     "data": {
      "text/plain": [
       "[[('skmo:용감한_형제', 'skmo:isComposedBy', 'mo:Track'),\n",
       "  ('mo:Track', 'Any P', 'skmo:Genre')],\n",
       " [('skmo:용감한_형제', 'skmo:isComposedBy', 'mo:Track'),\n",
       "  ('mo:Track', 'skmo:hasGenre', 'owl:Thing')]]"
      ]
     },
     "execution_count": 6,
     "metadata": {},
     "output_type": "execute_result"
    }
   ],
   "source": [
    "conceptual_graph = []\n",
    "\n",
    "for rc in resource_combinations:\n",
    "    conceptual_arc = []\n",
    "    state_list = []\n",
    "    rc = list(rc)\n",
    "\n",
    "    for r in rc:\n",
    "        r_type = get_type(r)\n",
    "        if r_type in ['T_dp', 'T_op']:\n",
    "            state_list.append('edge') \n",
    "        else:\n",
    "            state_list.append('vertex') \n",
    "\n",
    "    # 마지막이 edge일 때\n",
    "    if state_list[-1] == 'edge':\n",
    "        state_list.append('vertex')\n",
    "        rc.append('owl:Thing')\n",
    "\n",
    "    # vertex - vertex 일때\n",
    "    index_list = []\n",
    "    for i in range(len(state_list)-1):\n",
    "        if state_list[i] == 'vertex' and state_list[i+1] == 'vertex':\n",
    "            index_list.append(i+1)\n",
    "    \n",
    "    for i in index_list:\n",
    "        state_list.insert(i, 'edge')\n",
    "        rc.insert(i, 'Any P')\n",
    "    \n",
    "    for offset in range(0,len(rc)-2, 2):\n",
    "        conceptual_arc.append(tuple(rc[offset:offset+3]))\n",
    "    \n",
    "    conceptual_graph.append(conceptual_arc)\n",
    "\n",
    "conceptual_graph"
   ]
  }
 ],
 "metadata": {
  "kernelspec": {
   "display_name": "py39",
   "language": "python",
   "name": "python3"
  },
  "language_info": {
   "codemirror_mode": {
    "name": "ipython",
    "version": 3
   },
   "file_extension": ".py",
   "mimetype": "text/x-python",
   "name": "python",
   "nbconvert_exporter": "python",
   "pygments_lexer": "ipython3",
   "version": "3.9.16"
  },
  "orig_nbformat": 4
 },
 "nbformat": 4,
 "nbformat_minor": 2
}
