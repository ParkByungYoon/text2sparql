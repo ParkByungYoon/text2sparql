{
 "cells": [
  {
   "cell_type": "code",
   "execution_count": 2,
   "metadata": {},
   "outputs": [],
   "source": [
    "import sys\n",
    "sys.path.append('../')\n",
    "from setting import config_read"
   ]
  },
  {
   "cell_type": "code",
   "execution_count": 1,
   "metadata": {},
   "outputs": [
    {
     "name": "stderr",
     "output_type": "stream",
     "text": [
      "* Owlready2 * Warning: optimized Cython parser module 'owlready2_optimized' is not available, defaulting to slower Python implementation\n"
     ]
    }
   ],
   "source": [
    "from owlready2 import get_ontology\n",
    "from elasticsearch import Elasticsearch"
   ]
  },
  {
   "cell_type": "code",
   "execution_count": 3,
   "metadata": {},
   "outputs": [],
   "source": [
    "# Read config file\n",
    "config = config_read('../')\n",
    "\n",
    "# Load owl file\n",
    "data_path = config['owl']['path']\n",
    "onto = get_ontology(data_path).load()\n",
    "\n",
    "# Elasticsearch\n",
    "index_name = config['elasticsearch']['name']\n",
    "server_ip = config['elasticsearch']['ip']\n",
    "es = Elasticsearch(server_ip)"
   ]
  },
  {
   "cell_type": "code",
   "execution_count": 4,
   "metadata": {},
   "outputs": [
    {
     "name": "stdout",
     "output_type": "stream",
     "text": [
      "Query Term Set: ['용감한', '형제', '작곡', '노래', '장르']\n",
      "Query Partitions Set:\n",
      "['용감한 형제 작곡 노래 장르']\n",
      "['용감한', '형제 작곡 노래 장르']\n",
      "['용감한 형제', '작곡 노래 장르']\n",
      "['용감한 형제 작곡', '노래 장르']\n",
      "['용감한 형제 작곡 노래', '장르']\n",
      "['용감한', '형제', '작곡 노래 장르']\n",
      "['용감한', '형제 작곡', '노래 장르']\n",
      "['용감한', '형제 작곡 노래', '장르']\n",
      "['용감한 형제', '작곡', '노래 장르']\n",
      "['용감한 형제', '작곡 노래', '장르']\n",
      "['용감한 형제 작곡', '노래', '장르']\n",
      "['용감한', '형제', '작곡', '노래 장르']\n",
      "['용감한', '형제', '작곡 노래', '장르']\n",
      "['용감한', '형제 작곡', '노래', '장르']\n",
      "['용감한 형제', '작곡', '노래', '장르']\n",
      "['용감한', '형제', '작곡', '노래', '장르']\n"
     ]
    }
   ],
   "source": [
    "query_terms = ['용감한','형제','작곡','노래','장르']\n",
    "\n",
    "query_patitions = [[\" \".join(query_terms)]]\n",
    "\n",
    "for slice_num in range(1,len(query_terms)):\n",
    "    for slice_list in itertools.combinations(range(len(query_terms)-1), slice_num):\n",
    "        qp = []\n",
    "        qp.append(\" \".join(query_terms[:slice_list[0]+1]))\n",
    "        \n",
    "        for s_i, slice_idx in enumerate(slice_list):\n",
    "            if s_i == len(slice_list) - 1 : break\n",
    "            qp.append(\" \".join(query_terms[slice_idx+1:slice_list[s_i+1]+1]))\n",
    "\n",
    "        qp.append(\" \".join(query_terms[slice_list[-1]+1:]))\n",
    "        query_patitions.append(qp)\n",
    "\n",
    "print(\"Query Term Set:\", query_terms)\n",
    "print(\"Query Partitions Set:\")\n",
    "for qp in query_patitions:\n",
    "    print(qp)"
   ]
  },
  {
   "cell_type": "code",
   "execution_count": 5,
   "metadata": {},
   "outputs": [
    {
     "name": "stdout",
     "output_type": "stream",
     "text": [
      "[0, 0, 7.171753, 0, 6.5522356, 0, 0, 6.5522356, 14.343506, 13.7239886, 13.7239886, 7.171753, 6.5522356, 13.7239886, 28.0674946, 20.8957416]\n"
     ]
    },
    {
     "data": {
      "text/plain": [
       "['용감한 형제', '작곡', '노래', '장르']"
      ]
     },
     "execution_count": 5,
     "metadata": {},
     "output_type": "execute_result"
    }
   ],
   "source": [
    "score_list = []\n",
    "\n",
    "for qp in query_patitions:\n",
    "    score = 0\n",
    "    for q in qp:\n",
    "        search_query = {\"query\":{\"term\":{\"Annotation Values.keyword\": q}}}\n",
    "        data = es.search(index=index_name, body=search_query)\n",
    "        if data['hits']['max_score'] :\n",
    "            score += data['hits']['max_score']\n",
    "    score_list.append(score)\n",
    "\n",
    "print(score_list)\n",
    "p_star = query_patitions[np.argmax(score_list)]\n",
    "p_star"
   ]
  },
  {
   "cell_type": "code",
   "execution_count": 11,
   "metadata": {},
   "outputs": [],
   "source": [
    "candidates_list = []\n",
    "for q in p_star:\n",
    "    earch_query = {\"query\":{\"term\":{\"Annotation Values.keyword\": q}}}\n",
    "    candidates = es.search(index=index_name, body=earch_query)['hits']['hits']\n",
    "    candidates_list.append(candidates)\n",
    "resource_combinations = list(itertools.product(*candidates_list))"
   ]
  },
  {
   "cell_type": "code",
   "execution_count": 8,
   "metadata": {},
   "outputs": [],
   "source": [
    "# Resource Mapping and List Resource Combinations\n",
    "# candidates_list = [onto.search(label=query) for query in p_star]\n",
    "# resource_combinations = list(itertools.product(*candidates_list))\n",
    "# resource_combinations"
   ]
  }
 ],
 "metadata": {
  "kernelspec": {
   "display_name": "py39",
   "language": "python",
   "name": "python3"
  },
  "language_info": {
   "codemirror_mode": {
    "name": "ipython",
    "version": 3
   },
   "file_extension": ".py",
   "mimetype": "text/x-python",
   "name": "python",
   "nbconvert_exporter": "python",
   "pygments_lexer": "ipython3",
   "version": "3.9.16"
  },
  "orig_nbformat": 4
 },
 "nbformat": 4,
 "nbformat_minor": 2
}
