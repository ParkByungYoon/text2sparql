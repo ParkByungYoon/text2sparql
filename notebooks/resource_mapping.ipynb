{
 "cells": [
  {
   "cell_type": "code",
   "execution_count": 14,
   "metadata": {},
   "outputs": [],
   "source": [
    "import sys\n",
    "sys.path.append('../')\n",
    "from setting import config_read\n",
    "from mapping import *"
   ]
  },
  {
   "cell_type": "code",
   "execution_count": 15,
   "metadata": {},
   "outputs": [],
   "source": [
    "from konlpy.tag import Okt\n",
    "from owlready2 import get_ontology\n",
    "from elasticsearch import Elasticsearch"
   ]
  },
  {
   "cell_type": "code",
   "execution_count": 16,
   "metadata": {},
   "outputs": [],
   "source": [
    "# Read config file\n",
    "config = config_read('../')\n",
    "\n",
    "# Load owl file\n",
    "data_path = config['owl']['path']\n",
    "onto = get_ontology(data_path).load()\n",
    "\n",
    "# Elasticsearch\n",
    "index_name = config['elasticsearch']['name']\n",
    "server_ip = config['elasticsearch']['ip']\n",
    "es = Elasticsearch(server_ip)"
   ]
  },
  {
   "cell_type": "code",
   "execution_count": 17,
   "metadata": {},
   "outputs": [],
   "source": [
    "okt = Okt()\n",
    "\n",
    "query = input(\"Question: \") # 용감한 형제가 작곡한 노래의 장르는?\n",
    "query_pos = okt.pos(query, norm=True)\n",
    "\n",
    "query_terms = [q[0] for q in query_pos if q[1] not in [\"Josa\", \"Punctuation\"]]"
   ]
  },
  {
   "cell_type": "code",
   "execution_count": 18,
   "metadata": {},
   "outputs": [
    {
     "name": "stdout",
     "output_type": "stream",
     "text": [
      "Query Term Set: ['용감한', '형제', '작곡', '노래', '장르']\n",
      "Query Partitions Set:\n",
      "['용감한 형제 작곡 노래 장르']\n",
      "['용감한', '형제 작곡 노래 장르']\n",
      "['용감한 형제', '작곡 노래 장르']\n",
      "['용감한 형제 작곡', '노래 장르']\n",
      "['용감한 형제 작곡 노래', '장르']\n",
      "['용감한', '형제', '작곡 노래 장르']\n",
      "['용감한', '형제 작곡', '노래 장르']\n",
      "['용감한', '형제 작곡 노래', '장르']\n",
      "['용감한 형제', '작곡', '노래 장르']\n",
      "['용감한 형제', '작곡 노래', '장르']\n",
      "['용감한 형제 작곡', '노래', '장르']\n",
      "['용감한', '형제', '작곡', '노래 장르']\n",
      "['용감한', '형제', '작곡 노래', '장르']\n",
      "['용감한', '형제 작곡', '노래', '장르']\n",
      "['용감한 형제', '작곡', '노래', '장르']\n",
      "['용감한', '형제', '작곡', '노래', '장르']\n"
     ]
    }
   ],
   "source": [
    "query_patitions = query_patitioning(query_terms)\n",
    "\n",
    "print(\"Query Term Set:\", query_terms)\n",
    "print(\"Query Partitions Set:\")\n",
    "for qp in query_patitions:\n",
    "    print(qp)"
   ]
  },
  {
   "cell_type": "code",
   "execution_count": 19,
   "metadata": {},
   "outputs": [
    {
     "name": "stdout",
     "output_type": "stream",
     "text": [
      "[0, 0, 7.171753, 0, 6.5522356, 0, 0, 6.5522356, 14.343506, 13.7239886, 13.7239886, 7.171753, 6.5522356, 13.7239886, 28.0674946, 20.8957416]\n",
      "['용감한 형제', '작곡', '노래', '장르']\n"
     ]
    }
   ],
   "source": [
    "p_star, score_list = partition_scoring(es, index_name, query_patitions)\n",
    "print(score_list)\n",
    "print(p_star)"
   ]
  },
  {
   "cell_type": "code",
   "execution_count": 20,
   "metadata": {},
   "outputs": [],
   "source": [
    "# candidates_list = []\n",
    "# for q in p_star:\n",
    "#     earch_query = {\"query\":{\"term\":{\"Annotation Values.keyword\": q}}}\n",
    "#     candidates = es.search(index=index_name, body=earch_query)['hits']['hits']\n",
    "#     candidates_list.append(candidates)\n",
    "# resource_combinations = list(itertools.product(*candidates_list))"
   ]
  },
  {
   "cell_type": "code",
   "execution_count": 21,
   "metadata": {},
   "outputs": [],
   "source": [
    "# Resource Mapping and List Resource Combinations\n",
    "# candidates_list = [onto.search(label=query) for query in p_star]\n",
    "# resource_combinations = list(itertools.product(*candidates_list))\n",
    "# resource_combinations"
   ]
  }
 ],
 "metadata": {
  "kernelspec": {
   "display_name": "py39",
   "language": "python",
   "name": "python3"
  },
  "language_info": {
   "codemirror_mode": {
    "name": "ipython",
    "version": 3
   },
   "file_extension": ".py",
   "mimetype": "text/x-python",
   "name": "python",
   "nbconvert_exporter": "python",
   "pygments_lexer": "ipython3",
   "version": "3.9.16"
  },
  "orig_nbformat": 4
 },
 "nbformat": 4,
 "nbformat_minor": 2
}
